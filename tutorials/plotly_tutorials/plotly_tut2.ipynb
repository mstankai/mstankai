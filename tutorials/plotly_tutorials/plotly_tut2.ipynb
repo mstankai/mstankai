{
 "cells": [
  {
   "cell_type": "markdown",
   "id": "15ae7900-e84b-44c3-aa80-5ff5641fe93a",
   "metadata": {},
   "source": [
    "# Plotly Practice: Distributions\n",
    "\n",
    "This notebook follows the data visualization tutorial for `seaborn` from Kaggle, but I will used `plotly` to produce said plots."
   ]
  },
  {
   "cell_type": "markdown",
   "id": "1c9732d0-ead7-4b8f-b351-152da5c8cf61",
   "metadata": {},
   "source": [
    "##### Setting up the libraries"
   ]
  },
  {
   "cell_type": "code",
   "execution_count": 177,
   "id": "d78c7edf-cdfa-4abd-b507-898f10ef8c5d",
   "metadata": {},
   "outputs": [],
   "source": [
    "# general\n",
    "import numpy as np\n",
    "import pandas as pd\n",
    "pd.plotting.register_matplotlib_converters()\n",
    "\n",
    "# mpl\n",
    "import matplotlib as mpl\n",
    "import matplotlib.pyplot as plt\n",
    "\n",
    "# plotly\n",
    "import plotly.express as px\n",
    "import plotly.io as pio\n",
    "import plotly.figure_factory as ff\n",
    "pio.renderers.default = 'iframe'\n",
    "\n",
    "# stats\n",
    "from scipy import stats\n",
    "from lmfit.models import GaussianModel\n",
    "\n"
   ]
  },
  {
   "cell_type": "markdown",
   "id": "b00e4da3-2aee-44a9-a886-947ad1f682ec",
   "metadata": {},
   "source": [
    "### Distributions of Irises\n",
    "Here I will explore data gathered by measuiring Iris flower speciments of 3 different kinds."
   ]
  },
  {
   "cell_type": "code",
   "execution_count": 178,
   "id": "1e23369e-b708-4a21-8ada-ac463de20d3b",
   "metadata": {},
   "outputs": [
    {
     "data": {
      "text/html": [
       "<div>\n",
       "<style scoped>\n",
       "    .dataframe tbody tr th:only-of-type {\n",
       "        vertical-align: middle;\n",
       "    }\n",
       "\n",
       "    .dataframe tbody tr th {\n",
       "        vertical-align: top;\n",
       "    }\n",
       "\n",
       "    .dataframe thead th {\n",
       "        text-align: right;\n",
       "    }\n",
       "</style>\n",
       "<table border=\"1\" class=\"dataframe\">\n",
       "  <thead>\n",
       "    <tr style=\"text-align: right;\">\n",
       "      <th></th>\n",
       "      <th>Sepal Length (cm)</th>\n",
       "      <th>Sepal Width (cm)</th>\n",
       "      <th>Petal Length (cm)</th>\n",
       "      <th>Petal Width (cm)</th>\n",
       "      <th>Species</th>\n",
       "    </tr>\n",
       "    <tr>\n",
       "      <th>Id</th>\n",
       "      <th></th>\n",
       "      <th></th>\n",
       "      <th></th>\n",
       "      <th></th>\n",
       "      <th></th>\n",
       "    </tr>\n",
       "  </thead>\n",
       "  <tbody>\n",
       "    <tr>\n",
       "      <th>1</th>\n",
       "      <td>5.1</td>\n",
       "      <td>3.5</td>\n",
       "      <td>1.4</td>\n",
       "      <td>0.2</td>\n",
       "      <td>Iris-setosa</td>\n",
       "    </tr>\n",
       "    <tr>\n",
       "      <th>2</th>\n",
       "      <td>4.9</td>\n",
       "      <td>3.0</td>\n",
       "      <td>1.4</td>\n",
       "      <td>0.2</td>\n",
       "      <td>Iris-setosa</td>\n",
       "    </tr>\n",
       "    <tr>\n",
       "      <th>3</th>\n",
       "      <td>4.7</td>\n",
       "      <td>3.2</td>\n",
       "      <td>1.3</td>\n",
       "      <td>0.2</td>\n",
       "      <td>Iris-setosa</td>\n",
       "    </tr>\n",
       "    <tr>\n",
       "      <th>4</th>\n",
       "      <td>4.6</td>\n",
       "      <td>3.1</td>\n",
       "      <td>1.5</td>\n",
       "      <td>0.2</td>\n",
       "      <td>Iris-setosa</td>\n",
       "    </tr>\n",
       "    <tr>\n",
       "      <th>5</th>\n",
       "      <td>5.0</td>\n",
       "      <td>3.6</td>\n",
       "      <td>1.4</td>\n",
       "      <td>0.2</td>\n",
       "      <td>Iris-setosa</td>\n",
       "    </tr>\n",
       "  </tbody>\n",
       "</table>\n",
       "</div>"
      ],
      "text/plain": [
       "    Sepal Length (cm)  Sepal Width (cm)  Petal Length (cm)  Petal Width (cm)  \\\n",
       "Id                                                                             \n",
       "1                 5.1               3.5                1.4               0.2   \n",
       "2                 4.9               3.0                1.4               0.2   \n",
       "3                 4.7               3.2                1.3               0.2   \n",
       "4                 4.6               3.1                1.5               0.2   \n",
       "5                 5.0               3.6                1.4               0.2   \n",
       "\n",
       "        Species  \n",
       "Id               \n",
       "1   Iris-setosa  \n",
       "2   Iris-setosa  \n",
       "3   Iris-setosa  \n",
       "4   Iris-setosa  \n",
       "5   Iris-setosa  "
      ]
     },
     "metadata": {},
     "output_type": "display_data"
    },
    {
     "name": "stdout",
     "output_type": "stream",
     "text": [
      "Shape:  (150, 5)\n"
     ]
    }
   ],
   "source": [
    "# get data\n",
    "iris_path = '../data/datavis/iris.csv'\n",
    "iris = pd.read_csv(iris_path,index_col='Id')\n",
    "\n",
    "# display\n",
    "display(iris.head())\n",
    "print('Shape: ',iris.shape)"
   ]
  },
  {
   "cell_type": "code",
   "execution_count": 179,
   "id": "00e1ef4d-3364-4a51-8658-93563c59f0b0",
   "metadata": {},
   "outputs": [
    {
     "data": {
      "text/plain": [
       "Iris-setosa        50\n",
       "Iris-versicolor    50\n",
       "Iris-virginica     50\n",
       "Name: Species, dtype: int64"
      ]
     },
     "execution_count": 179,
     "metadata": {},
     "output_type": "execute_result"
    }
   ],
   "source": [
    "iris.Species.value_counts()"
   ]
  },
  {
   "cell_type": "code",
   "execution_count": 182,
   "id": "11e643b5-0d71-4147-8843-ea91d06fb71c",
   "metadata": {},
   "outputs": [
    {
     "data": {
      "text/plain": [
       "['Sepal Length (cm)',\n",
       " 'Sepal Width (cm)',\n",
       " 'Petal Length (cm)',\n",
       " 'Petal Width (cm)',\n",
       " 'Species']"
      ]
     },
     "execution_count": 182,
     "metadata": {},
     "output_type": "execute_result"
    }
   ],
   "source": [
    "list(iris.columns)"
   ]
  },
  {
   "cell_type": "markdown",
   "id": "5b353727-7d13-405b-b69e-53b16213f6be",
   "metadata": {},
   "source": [
    "## Making Histograms"
   ]
  },
  {
   "cell_type": "code",
   "execution_count": 215,
   "id": "bbed4646-93ce-4404-a70b-7c04ce7de741",
   "metadata": {},
   "outputs": [
    {
     "data": {
      "text/html": [
       "<iframe\n",
       "    scrolling=\"no\"\n",
       "    width=\"620px\"\n",
       "    height=\"420\"\n",
       "    src=\"iframe_figures/figure_215.html\"\n",
       "    frameborder=\"0\"\n",
       "    allowfullscreen\n",
       "></iframe>\n"
      ]
     },
     "metadata": {},
     "output_type": "display_data"
    }
   ],
   "source": [
    "# plot petal length distribution\n",
    "fig1 = px.histogram(iris\n",
    "                   ,x= 'Petal Length (cm)'\n",
    "                   ,height=400\n",
    "                   ,width=600\n",
    "                   ,color='Species'\n",
    "                   ,marginal='box'\n",
    "                   ,nbins=20\n",
    "                   )\n",
    "# cosmetics\n",
    "fig1.update_layout(title_text = \"Distribution of Petal Length\"\n",
    "                  ,yaxis_title_text = \"Speciment Count\")\n",
    "\n",
    "# overlay histograms? \n",
    "overlay = True\n",
    "if overlay : \n",
    "    fig1.update_layout(barmode='overlay')\n",
    "    fig1.update_traces(opacity=0.5)\n",
    "\n",
    "# print plot\n",
    "fig1.show()\n"
   ]
  },
  {
   "cell_type": "code",
   "execution_count": 198,
   "id": "8014b0be-e38f-4ef0-b7b9-7587ccab2cac",
   "metadata": {},
   "outputs": [
    {
     "data": {
      "text/html": [
       "<iframe\n",
       "    scrolling=\"no\"\n",
       "    width=\"100%\"\n",
       "    height=\"545px\"\n",
       "    src=\"iframe_figures/figure_198.html\"\n",
       "    frameborder=\"0\"\n",
       "    allowfullscreen\n",
       "></iframe>\n"
      ]
     },
     "metadata": {},
     "output_type": "display_data"
    }
   ],
   "source": [
    "# plotting the same distributions as above \n",
    "# + fit gaussians\n",
    "# using figure factory\n",
    "\n",
    "var = 'Petal Length (cm)'\n",
    "\n",
    "data = [iris[var].loc[iris.Species == 'Iris-setosa']\n",
    "       ,iris[var].loc[iris.Species == 'Iris-versicolor']\n",
    "       ,iris[var].loc[iris.Species == 'Iris-virginica']]\n",
    "\n",
    "labels = ['Iris-setosa'\n",
    "          ,'Iris-versicolor'\n",
    "          ,'Iris-virginica']\n",
    "\n",
    "\n",
    "fig2 = ff.create_distplot(data,labels\n",
    "                         ,bin_size=.4\n",
    "                         ,histnorm='probability'\n",
    "                         ,curve_type='normal'\n",
    "                         #,show_curve=False\n",
    "                         #,show_rug=False\n",
    "                         )\n",
    "fig2.show()\n"
   ]
  },
  {
   "cell_type": "markdown",
   "id": "72271092-4613-457d-be34-2413b1e483ee",
   "metadata": {},
   "source": [
    "## Gaussian Fits\n",
    "\n",
    "The above plots do not give us information on the gaussian fits so I need to extract it myself\n",
    "\n",
    "### 1) Basic Information\n"
   ]
  },
  {
   "cell_type": "code",
   "execution_count": 190,
   "id": "7b137a20-f9ed-4181-9d36-c3d048824a3c",
   "metadata": {},
   "outputs": [
    {
     "name": "stdout",
     "output_type": "stream",
     "text": [
      "Iris-setosa\t mu: 1.46 std: 0.17\n",
      "Iris-versicolor\t mu: 4.26 std: 0.47\n",
      "Iris-virginica\t mu: 5.55 std: 0.55\n"
     ]
    }
   ],
   "source": [
    "# get basic fit information\n",
    "for i,d in enumerate(data):\n",
    "    mu, std = stats.norm.fit(d)\n",
    "    print(\"{:s}\\t mu: {:.2f} std: {:.2f}\".format(labels[i],mu,std))\n",
    "    \n",
    "    "
   ]
  },
  {
   "cell_type": "markdown",
   "id": "ce93c2d2-4465-4e8f-ae2e-fe2f4e8422bd",
   "metadata": {},
   "source": [
    "### 2) Detailed Information\n",
    "\n",
    "This only gives me the mean and the standard deviation. I would like to get a least squares fit.\n",
    "\n",
    "For this I will use the `lmfit` package."
   ]
  },
  {
   "cell_type": "code",
   "execution_count": 195,
   "id": "6344b3a9-fd1c-4334-9f01-900f9d5b0454",
   "metadata": {},
   "outputs": [],
   "source": [
    "# first I make histograms using the data\n",
    "hists = [np.histogram(d,bins=5) for d in data]\n",
    "\n",
    "# init centers\n",
    "centers_i = [1,4,5]\n",
    "\n",
    "# set model\n",
    "model = GaussianModel()\n"
   ]
  },
  {
   "cell_type": "code",
   "execution_count": 196,
   "id": "d94e8122-95d7-45e1-a23c-b43ee88aac82",
   "metadata": {},
   "outputs": [
    {
     "data": {
      "image/png": "[encoded data removed]",
      "text/plain": [
       "<Figure size 432x288 with 1 Axes>"
      ]
     },
     "metadata": {
      "needs_background": "light"
     },
     "output_type": "display_data"
    }
   ],
   "source": [
    "# loop over data\n",
    "results = []\n",
    "\n",
    "for i,h in enumerate(hists):\n",
    "    params = model.make_params(center=centers_i[i]\n",
    "                               ,amplitude=20\n",
    "                               ,sigma=1)  \n",
    "    \n",
    "    bin_edges = h[1]\n",
    "    bin_centers = (bin_edges[1:] + bin_edges[:-1])/2\n",
    "    res = model.fit(h[0], params, x=bin_centers)\n",
    "    results.append(res)\n",
    "    \n",
    "    plt.bar(bin_centers,h[0],alpha=0.1)\n",
    "    plt.plot(bin_centers,res.best_fit)\n",
    "    \n"
   ]
  },
  {
   "cell_type": "markdown",
   "id": "d59bcba5-7fa8-4459-849d-fd9ce153c69a",
   "metadata": {
    "tags": []
   },
   "source": [
    "## Printing the fit results\n",
    "\n",
    "Now I use the `result.fit_report()` function from `lmfit` to print a summary of a least squares fit"
   ]
  },
  {
   "cell_type": "code",
   "execution_count": 197,
   "id": "aeb32497-af91-4ace-b794-0fd4d25e59e9",
   "metadata": {},
   "outputs": [
    {
     "name": "stdout",
     "output_type": "stream",
     "text": [
      ">>> Iris-setosa FIT REPORT\n",
      "\n",
      " [[Model]]\n",
      "    Model(gaussian)\n",
      "[[Fit Statistics]]\n",
      "    # fitting method   = leastsq\n",
      "    # function evals   = 38\n",
      "    # data points      = 5\n",
      "    # variables        = 3\n",
      "    chi-square         = 6.70844883\n",
      "    reduced chi-square = 3.35422442\n",
      "    Akaike info crit   = 7.46964920\n",
      "    Bayesian info crit = 6.29796293\n",
      "[[Variables]]\n",
      "    amplitude:  24.1198797 +/- 2.20678690 (9.15%) (init = 20)\n",
      "    center:     5.50358371 +/- 0.05537558 (1.01%) (init = 5)\n",
      "    sigma:      0.53359420 +/- 0.05828654 (10.92%) (init = 1)\n",
      "    fwhm:       1.25651829 +/- 0.13725430 (10.92%) == '2.3548200*sigma'\n",
      "    height:     18.0332551 +/- 1.62226160 (9.00%) == '0.3989423*amplitude/max(1e-15, sigma)'\n",
      "[[Correlations]] (unreported correlations are < 0.100)\n",
      "    C(amplitude, sigma) = 0.611\n",
      "\n",
      "\n",
      "\n",
      ">>> Iris-versicolor FIT REPORT\n",
      "\n",
      " [[Model]]\n",
      "    Model(gaussian)\n",
      "[[Fit Statistics]]\n",
      "    # fitting method   = leastsq\n",
      "    # function evals   = 38\n",
      "    # data points      = 5\n",
      "    # variables        = 3\n",
      "    chi-square         = 6.70844883\n",
      "    reduced chi-square = 3.35422442\n",
      "    Akaike info crit   = 7.46964920\n",
      "    Bayesian info crit = 6.29796293\n",
      "[[Variables]]\n",
      "    amplitude:  24.1198797 +/- 2.20678690 (9.15%) (init = 20)\n",
      "    center:     5.50358371 +/- 0.05537558 (1.01%) (init = 5)\n",
      "    sigma:      0.53359420 +/- 0.05828654 (10.92%) (init = 1)\n",
      "    fwhm:       1.25651829 +/- 0.13725430 (10.92%) == '2.3548200*sigma'\n",
      "    height:     18.0332551 +/- 1.62226160 (9.00%) == '0.3989423*amplitude/max(1e-15, sigma)'\n",
      "[[Correlations]] (unreported correlations are < 0.100)\n",
      "    C(amplitude, sigma) = 0.611\n",
      "\n",
      "\n",
      "\n",
      ">>> Iris-virginica FIT REPORT\n",
      "\n",
      " [[Model]]\n",
      "    Model(gaussian)\n",
      "[[Fit Statistics]]\n",
      "    # fitting method   = leastsq\n",
      "    # function evals   = 38\n",
      "    # data points      = 5\n",
      "    # variables        = 3\n",
      "    chi-square         = 6.70844883\n",
      "    reduced chi-square = 3.35422442\n",
      "    Akaike info crit   = 7.46964920\n",
      "    Bayesian info crit = 6.29796293\n",
      "[[Variables]]\n",
      "    amplitude:  24.1198797 +/- 2.20678690 (9.15%) (init = 20)\n",
      "    center:     5.50358371 +/- 0.05537558 (1.01%) (init = 5)\n",
      "    sigma:      0.53359420 +/- 0.05828654 (10.92%) (init = 1)\n",
      "    fwhm:       1.25651829 +/- 0.13725430 (10.92%) == '2.3548200*sigma'\n",
      "    height:     18.0332551 +/- 1.62226160 (9.00%) == '0.3989423*amplitude/max(1e-15, sigma)'\n",
      "[[Correlations]] (unreported correlations are < 0.100)\n",
      "    C(amplitude, sigma) = 0.611\n",
      "\n",
      "\n",
      "\n"
     ]
    }
   ],
   "source": [
    "# print results\n",
    "for i, r in enumerate(results) : \n",
    "    print(\">>> {:s} FIT REPORT\\n\\n {:s}\\n\\n\\n\".format(labels[i],res.fit_report()))\n"
   ]
  },
  {
   "cell_type": "code",
   "execution_count": null,
   "id": "72b6ec8c-25ab-4fd1-ae0c-43372ac3c8db",
   "metadata": {},
   "outputs": [],
   "source": []
  }
 ],
 "metadata": {
  "kernelspec": {
   "display_name": "Python 3 (ipykernel)",
   "language": "python",
   "name": "python3"
  },
  "language_info": {
   "codemirror_mode": {
    "name": "ipython",
    "version": 3
   },
   "file_extension": ".py",
   "mimetype": "text/x-python",
   "name": "python",
   "nbconvert_exporter": "python",
   "pygments_lexer": "ipython3",
   "version": "3.8.13"
  }
 },
 "nbformat": 4,
 "nbformat_minor": 5
}
