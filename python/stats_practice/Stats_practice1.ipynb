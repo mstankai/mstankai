{
 "cells": [
  {
   "cell_type": "markdown",
   "id": "b1eca35e-93c8-4dad-9132-d9c377c3f07e",
   "metadata": {},
   "source": [
    "# Statistics Practice 1\n",
    "\n",
    "Here are a few statistical analysis tasks.."
   ]
  },
  {
   "cell_type": "markdown",
   "id": "2df600ee-ca89-4684-b7ef-a6f13a2e255c",
   "metadata": {
    "tags": []
   },
   "source": [
    "#### Importing Libraries"
   ]
  },
  {
   "cell_type": "code",
   "execution_count": 1,
   "id": "c84c0062-47df-4b0e-86eb-68bad23bf129",
   "metadata": {},
   "outputs": [],
   "source": [
    "# general\n",
    "import numpy as np\n",
    "import pandas as pd\n",
    "pd.plotting.register_matplotlib_converters()\n",
    "\n",
    "# mpl\n",
    "import matplotlib as mpl\n",
    "import matplotlib.pyplot as plt\n",
    "\n",
    "# plotly\n",
    "import plotly.express as px\n",
    "import plotly.io as pio\n",
    "import plotly.figure_factory as ff\n",
    "pio.renderers.default = 'iframe'\n",
    "\n",
    "# stats\n",
    "from scipy import stats\n",
    "#from lmfit.models import GaussianModel"
   ]
  },
  {
   "cell_type": "markdown",
   "id": "c0d2bf06-97c5-4e6c-b1de-e0a66a9dbb2f",
   "metadata": {},
   "source": [
    "### 1) Random Dataset"
   ]
  },
  {
   "cell_type": "code",
   "execution_count": 2,
   "id": "456a270b-9262-4e97-a7e6-deaee0141700",
   "metadata": {},
   "outputs": [
    {
     "data": {
      "text/html": [
       "<div>\n",
       "<style scoped>\n",
       "    .dataframe tbody tr th:only-of-type {\n",
       "        vertical-align: middle;\n",
       "    }\n",
       "\n",
       "    .dataframe tbody tr th {\n",
       "        vertical-align: top;\n",
       "    }\n",
       "\n",
       "    .dataframe thead th {\n",
       "        text-align: right;\n",
       "    }\n",
       "</style>\n",
       "<table border=\"1\" class=\"dataframe\">\n",
       "  <thead>\n",
       "    <tr style=\"text-align: right;\">\n",
       "      <th></th>\n",
       "      <th>Toyota</th>\n",
       "      <th>Honda</th>\n",
       "      <th>Chevrolet</th>\n",
       "      <th>Ford</th>\n",
       "      <th>Mercedes</th>\n",
       "      <th>Jeep</th>\n",
       "      <th>BMW</th>\n",
       "      <th>Porsche</th>\n",
       "    </tr>\n",
       "  </thead>\n",
       "  <tbody>\n",
       "    <tr>\n",
       "      <th>0</th>\n",
       "      <td>red</td>\n",
       "      <td>green</td>\n",
       "      <td>blue</td>\n",
       "      <td>blue</td>\n",
       "      <td>green</td>\n",
       "      <td>red</td>\n",
       "      <td>green</td>\n",
       "      <td>blue</td>\n",
       "    </tr>\n",
       "    <tr>\n",
       "      <th>1</th>\n",
       "      <td>red</td>\n",
       "      <td>green</td>\n",
       "      <td>blue</td>\n",
       "      <td>blue</td>\n",
       "      <td>red</td>\n",
       "      <td>blue</td>\n",
       "      <td>green</td>\n",
       "      <td>green</td>\n",
       "    </tr>\n",
       "    <tr>\n",
       "      <th>2</th>\n",
       "      <td>green</td>\n",
       "      <td>blue</td>\n",
       "      <td>green</td>\n",
       "      <td>blue</td>\n",
       "      <td>green</td>\n",
       "      <td>green</td>\n",
       "      <td>green</td>\n",
       "      <td>red</td>\n",
       "    </tr>\n",
       "    <tr>\n",
       "      <th>3</th>\n",
       "      <td>red</td>\n",
       "      <td>blue</td>\n",
       "      <td>blue</td>\n",
       "      <td>green</td>\n",
       "      <td>blue</td>\n",
       "      <td>green</td>\n",
       "      <td>red</td>\n",
       "      <td>red</td>\n",
       "    </tr>\n",
       "    <tr>\n",
       "      <th>4</th>\n",
       "      <td>blue</td>\n",
       "      <td>green</td>\n",
       "      <td>blue</td>\n",
       "      <td>red</td>\n",
       "      <td>blue</td>\n",
       "      <td>blue</td>\n",
       "      <td>green</td>\n",
       "      <td>blue</td>\n",
       "    </tr>\n",
       "  </tbody>\n",
       "</table>\n",
       "</div>"
      ],
      "text/plain": [
       "  Toyota  Honda Chevrolet   Ford Mercedes   Jeep    BMW Porsche\n",
       "0    red  green      blue   blue    green    red  green    blue\n",
       "1    red  green      blue   blue      red   blue  green   green\n",
       "2  green   blue     green   blue    green  green  green     red\n",
       "3    red   blue      blue  green     blue  green    red     red\n",
       "4   blue  green      blue    red     blue   blue  green    blue"
      ]
     },
     "execution_count": 2,
     "metadata": {},
     "output_type": "execute_result"
    }
   ],
   "source": [
    "# creating a random categorical dataframe\n",
    "# car makes and colour\n",
    "\n",
    "# config\n",
    "n_rows = int(5e4)\n",
    "\n",
    "columns = ['Toyota'\n",
    "           ,'Honda'\n",
    "           ,'Chevrolet'\n",
    "           ,'Ford'\n",
    "           ,'Mercedes'\n",
    "           ,'Jeep'\n",
    "           ,'BMW'\n",
    "           ,'Porsche'\n",
    "          ]\n",
    "n_cols = len(columns)\n",
    "           \n",
    "cat_vars = ['red','green','blue']\n",
    "# --------------------------------\n",
    "\n",
    "car_data = pd.DataFrame(np.random.choice(cat_vars,size=(n_rows,n_cols))\n",
    "                       ,columns=columns)\n",
    "\n",
    "car_data.head()"
   ]
  },
  {
   "cell_type": "code",
   "execution_count": 3,
   "id": "1b7570f2-651e-48c1-a8be-ee00ae62260c",
   "metadata": {},
   "outputs": [
    {
     "data": {
      "text/html": [
       "<div>\n",
       "<style scoped>\n",
       "    .dataframe tbody tr th:only-of-type {\n",
       "        vertical-align: middle;\n",
       "    }\n",
       "\n",
       "    .dataframe tbody tr th {\n",
       "        vertical-align: top;\n",
       "    }\n",
       "\n",
       "    .dataframe thead th {\n",
       "        text-align: right;\n",
       "    }\n",
       "</style>\n",
       "<table border=\"1\" class=\"dataframe\">\n",
       "  <thead>\n",
       "    <tr style=\"text-align: right;\">\n",
       "      <th></th>\n",
       "      <th>Toyota</th>\n",
       "      <th>Honda</th>\n",
       "      <th>Chevrolet</th>\n",
       "      <th>Ford</th>\n",
       "      <th>Mercedes</th>\n",
       "      <th>Jeep</th>\n",
       "      <th>BMW</th>\n",
       "      <th>Porsche</th>\n",
       "    </tr>\n",
       "  </thead>\n",
       "  <tbody>\n",
       "    <tr>\n",
       "      <th>count</th>\n",
       "      <td>50000</td>\n",
       "      <td>50000</td>\n",
       "      <td>50000</td>\n",
       "      <td>50000</td>\n",
       "      <td>50000</td>\n",
       "      <td>50000</td>\n",
       "      <td>50000</td>\n",
       "      <td>50000</td>\n",
       "    </tr>\n",
       "    <tr>\n",
       "      <th>unique</th>\n",
       "      <td>3</td>\n",
       "      <td>3</td>\n",
       "      <td>3</td>\n",
       "      <td>3</td>\n",
       "      <td>3</td>\n",
       "      <td>3</td>\n",
       "      <td>3</td>\n",
       "      <td>3</td>\n",
       "    </tr>\n",
       "    <tr>\n",
       "      <th>top</th>\n",
       "      <td>green</td>\n",
       "      <td>green</td>\n",
       "      <td>green</td>\n",
       "      <td>blue</td>\n",
       "      <td>green</td>\n",
       "      <td>green</td>\n",
       "      <td>blue</td>\n",
       "      <td>blue</td>\n",
       "    </tr>\n",
       "    <tr>\n",
       "      <th>freq</th>\n",
       "      <td>16801</td>\n",
       "      <td>16755</td>\n",
       "      <td>16706</td>\n",
       "      <td>16801</td>\n",
       "      <td>16763</td>\n",
       "      <td>16727</td>\n",
       "      <td>16835</td>\n",
       "      <td>16928</td>\n",
       "    </tr>\n",
       "  </tbody>\n",
       "</table>\n",
       "</div>"
      ],
      "text/plain": [
       "       Toyota  Honda Chevrolet   Ford Mercedes   Jeep    BMW Porsche\n",
       "count   50000  50000     50000  50000    50000  50000  50000   50000\n",
       "unique      3      3         3      3        3      3      3       3\n",
       "top     green  green     green   blue    green  green   blue    blue\n",
       "freq    16801  16755     16706  16801    16763  16727  16835   16928"
      ]
     },
     "execution_count": 3,
     "metadata": {},
     "output_type": "execute_result"
    }
   ],
   "source": [
    "car_data.describe()"
   ]
  },
  {
   "cell_type": "markdown",
   "id": "f02aa599-b17d-4d75-8bc9-3083be0628b8",
   "metadata": {},
   "source": [
    "#### How many unique rows are possible?"
   ]
  },
  {
   "cell_type": "code",
   "execution_count": 4,
   "id": "87de5da3-8fdf-4cce-bf00-53d6b10e4b84",
   "metadata": {},
   "outputs": [
    {
     "name": "stdout",
     "output_type": "stream",
     "text": [
      "\n",
      "      N variables:   3\n",
      "      N columns:     8\n",
      "      N unique rows: 6561\n",
      "      all/unique :   7.6\n",
      "      \n"
     ]
    }
   ],
   "source": [
    "n_unique = len(cat_vars)**n_cols\n",
    "all_to_unq = n_rows/ n_unique\n",
    "print(\"\"\"\n",
    "      N variables:   {}\n",
    "      N columns:     {}\n",
    "      N unique rows: {}\n",
    "      all/unique :   {:2.1f}\n",
    "      \"\"\".format(len(cat_vars),n_cols,n_unique,all_to_unq))\n"
   ]
  },
  {
   "cell_type": "markdown",
   "id": "ca5731a0-627b-46c9-af95-6b6c71d08e58",
   "metadata": {},
   "source": [
    "### How many rows have the same combination?\n",
    "Looking at number of rows with each unique combination -- i.e. **group sizes**\n",
    "\n",
    "E.g. 21 --> means that 21 rows have this unique combination "
   ]
  },
  {
   "cell_type": "code",
   "execution_count": 5,
   "id": "96533b6e-f80a-49dc-bea5-9f094533585d",
   "metadata": {},
   "outputs": [
    {
     "data": {
      "text/plain": [
       "Toyota  Honda  Chevrolet  Ford   Mercedes  Jeep   BMW    Porsche\n",
       "blue    green  red        green  blue      blue   blue   red        19\n",
       "green   red    blue       blue   green     green  red    red        19\n",
       "blue    green  green      blue   blue      blue   green  red        19\n",
       "red     blue   red        red    blue      blue   blue   blue       18\n",
       "               green      blue   blue      red    red    red        18\n",
       "                                                                    ..\n",
       "blue    blue   red        green  blue      green  green  blue        1\n",
       "green   blue   green      red    green     blue   red    blue        1\n",
       "blue    red    red        red    blue      blue   red    red         1\n",
       "        blue   green      green  green     green  red    blue        1\n",
       "               red        blue   blue      green  green  red         1\n",
       "Length: 6557, dtype: int64"
      ]
     },
     "execution_count": 5,
     "metadata": {},
     "output_type": "execute_result"
    }
   ],
   "source": [
    "unq_rows = car_data.value_counts()\n",
    "unq_rows"
   ]
  },
  {
   "cell_type": "markdown",
   "id": "d0988fb5-44bc-4184-aad0-a16b665c92cd",
   "metadata": {},
   "source": [
    "### What is frequency of each \"group size\"?\n",
    "E.g. how many occurences do we have, where 21 rows have the same combination?"
   ]
  },
  {
   "cell_type": "code",
   "execution_count": 6,
   "id": "d767fc51-cfba-4d84-aa88-e014114a3041",
   "metadata": {},
   "outputs": [
    {
     "name": "stdout",
     "output_type": "stream",
     "text": [
      "19\n"
     ]
    },
    {
     "data": {
      "text/html": [
       "<div>\n",
       "<style scoped>\n",
       "    .dataframe tbody tr th:only-of-type {\n",
       "        vertical-align: middle;\n",
       "    }\n",
       "\n",
       "    .dataframe tbody tr th {\n",
       "        vertical-align: top;\n",
       "    }\n",
       "\n",
       "    .dataframe thead th {\n",
       "        text-align: right;\n",
       "    }\n",
       "</style>\n",
       "<table border=\"1\" class=\"dataframe\">\n",
       "  <thead>\n",
       "    <tr style=\"text-align: right;\">\n",
       "      <th></th>\n",
       "      <th>N_groups</th>\n",
       "    </tr>\n",
       "    <tr>\n",
       "      <th>group_size</th>\n",
       "      <th></th>\n",
       "    </tr>\n",
       "  </thead>\n",
       "  <tbody>\n",
       "    <tr>\n",
       "      <th>1</th>\n",
       "      <td>24</td>\n",
       "    </tr>\n",
       "    <tr>\n",
       "      <th>2</th>\n",
       "      <td>87</td>\n",
       "    </tr>\n",
       "    <tr>\n",
       "      <th>3</th>\n",
       "      <td>244</td>\n",
       "    </tr>\n",
       "    <tr>\n",
       "      <th>4</th>\n",
       "      <td>446</td>\n",
       "    </tr>\n",
       "    <tr>\n",
       "      <th>5</th>\n",
       "      <td>688</td>\n",
       "    </tr>\n",
       "    <tr>\n",
       "      <th>6</th>\n",
       "      <td>898</td>\n",
       "    </tr>\n",
       "    <tr>\n",
       "      <th>7</th>\n",
       "      <td>906</td>\n",
       "    </tr>\n",
       "    <tr>\n",
       "      <th>8</th>\n",
       "      <td>950</td>\n",
       "    </tr>\n",
       "    <tr>\n",
       "      <th>9</th>\n",
       "      <td>765</td>\n",
       "    </tr>\n",
       "    <tr>\n",
       "      <th>10</th>\n",
       "      <td>593</td>\n",
       "    </tr>\n",
       "  </tbody>\n",
       "</table>\n",
       "</div>"
      ],
      "text/plain": [
       "            N_groups\n",
       "group_size          \n",
       "1                 24\n",
       "2                 87\n",
       "3                244\n",
       "4                446\n",
       "5                688\n",
       "6                898\n",
       "7                906\n",
       "8                950\n",
       "9                765\n",
       "10               593"
      ]
     },
     "execution_count": 6,
     "metadata": {},
     "output_type": "execute_result"
    }
   ],
   "source": [
    "row_fq = unq_rows.value_counts().rename_axis(index='group_size')\n",
    "row_fq = pd.DataFrame(row_fq,columns=['N_groups']).sort_index()\n",
    "print(len(row_fq))\n",
    "row_fq.head(10)\n",
    "# cap to size of 12\n",
    "#row_fq_cap = row_fq[:12]\n",
    "#row_fq_cap"
   ]
  },
  {
   "cell_type": "code",
   "execution_count": 7,
   "id": "b9c696e1-57a5-48a3-8e9b-a5b3dcb54424",
   "metadata": {},
   "outputs": [
    {
     "data": {
      "text/html": [
       "<iframe\n",
       "    scrolling=\"no\"\n",
       "    width=\"100%\"\n",
       "    height=\"545px\"\n",
       "    src=\"iframe_figures/figure_7.html\"\n",
       "    frameborder=\"0\"\n",
       "    allowfullscreen\n",
       "></iframe>\n"
      ]
     },
     "metadata": {},
     "output_type": "display_data"
    }
   ],
   "source": [
    "#plot distribution\n",
    "\n",
    "# labels\n",
    "labels = {'group_size' : \"Group Size (# rows with the same combination)\"\n",
    "         ,'N_groups'   : \"Frequency of Group Size\"}\n",
    "\n",
    "fig1 = px.bar(row_fq\n",
    "              ,y='N_groups'\n",
    "              ,labels=labels\n",
    "              ,title=\"The frequency of groups of rows with the same value combination\")\n",
    "fig1.show()\n",
    "fig1.write_image('./img/uniq_fq_dist.pdf')"
   ]
  },
  {
   "cell_type": "code",
   "execution_count": null,
   "id": "f502f2a1-c881-409d-af9e-00e753bfcdb1",
   "metadata": {},
   "outputs": [],
   "source": []
  },
  {
   "cell_type": "code",
   "execution_count": null,
   "id": "5f3d8e1e-00df-47c1-b8f0-31ad9ada0996",
   "metadata": {},
   "outputs": [],
   "source": []
  }
 ],
 "metadata": {
  "kernelspec": {
   "display_name": "Python 3 (ipykernel)",
   "language": "python",
   "name": "python3"
  },
  "language_info": {
   "codemirror_mode": {
    "name": "ipython",
    "version": 3
   },
   "file_extension": ".py",
   "mimetype": "text/x-python",
   "name": "python",
   "nbconvert_exporter": "python",
   "pygments_lexer": "ipython3",
   "version": "3.8.13"
  }
 },
 "nbformat": 4,
 "nbformat_minor": 5
}
