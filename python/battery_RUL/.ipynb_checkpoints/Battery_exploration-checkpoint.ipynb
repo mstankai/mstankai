{
 "cells": [
  {
   "cell_type": "markdown",
   "id": "2b5fee5a-0c78-4e5a-a40b-3734715444aa",
   "metadata": {},
   "source": [
    "# Battery Data Exploration\n",
    "\n",
    "In this notebook I explore some open source data on battery performace.\n",
    "\n",
    "Data source: [Battery Remaining Useful Life (RUL)](https://www.kaggle.com/datasets/ignaciovinuales/battery-remaining-useful-life-rul)\n",
    "\n",
    "More information on the data and how it was processed: [github:ignavinuales/Battery_RUL_Prediction](https://github.com/ignavinuales/Battery_RUL_Prediction) \n",
    "\n",
    "-----------------------------\n",
    "**Contents:**\n",
    "1. [Initial Data Exploration](#1.-Initial-Data-Exploration)  \n",
    "   1.1. [Looking at Cycle Indexes](#1.1-Looking-at-Cycle-Indexes)  \n",
    "   1.2. [Adding battery ID's to the data frame](#1.2-Adding-battery-ID's-to-the-data-frame)\n",
    "\n",
    "2. [Data Overview](#2.-Data-Overview)  \n",
    "\n",
    "3. [Looking at the distributions](#3.-Looking-at-the-distributions)  \n",
    "   3.1. [Cycle # vs Discharge and Charge Time](#3.1-Cycle-#-vs-Discharge-and-Charge-Time)  \n",
    "   3.2. [Cycle # vs Min and Max Voltage](#-3.2-Cycle-#-vs-Min-and-Max-Voltage)  \n",
    "   3.3. [Cycle # vs Decrement 3.6 to 3.4 V](#3.3-Cycle-#-vs-Decrement-3.6-to-3.4-V)    \n",
    "      3.3.1. [Discharge Time vs Decrement 3.6-3.4V](#3.3.1.-Discharge-Time-vs-Decrement-3.6-3.4V)   \n",
    "   3.4. [Cycle # vs Time at 4.15 V during charge](#3.4-Cycle-#-vs-Time-at-4.15-V-during-charge)  \n",
    "      3.4.1. [Charge Time vs Time at 4.15 V during charge](#3.4.1-Charge-Time-vs-Time-at-4.15-V-during-charge)   \n",
    "   3.5. [Cycle # vs Time at Constant Current (CC)](#3.5-Cycle-#-vs-Time-at-Constant-Current-(CC))   \n",
    "      3.5.1. [Charge Time vs Time at CC](#3.5.1.-Charge-Time-vs-Time-at-CC)\n",
    "\n",
    "4. [Predicting RUL](#4.-Predicting-RUL)   \n",
    "   4.1. [Data Cleaning](#4.1-Data-Cleaning)   \n",
    "      4.1.1. [Checking missing records](#4.1.1-Checking-missing-records)   \n",
    "      4.1.2. [Removing unphysical records](#4.1.2-Removing-unphysical-records)   \n",
    "      4.1.3. [Plotting distributions](#4.1.3-Plotting-distributions)   \n",
    "   4.2. [Preparing Data](#4.2-Preparing-Data)   \n",
    "   4.3. [Implementing Models](#4.3-Implementing-Models)   \n",
    "      4.3.1. [Random Forest Model](#4.3.1-Random-Forest-Model)  \n",
    "      \n",
    "5. [Summary and Outlook](#5.-Summary-and-Outlook)\n",
    "      \n",
    "\n",
    "-----------------------------\n",
    "\n"
   ]
  },
  {
   "cell_type": "markdown",
   "id": "94b4d770-f16e-4d62-9820-fba6665acdd0",
   "metadata": {
    "jp-MarkdownHeadingCollapsed": true,
    "tags": []
   },
   "source": [
    "##### Importing Libraries ... "
   ]
  },
  {
   "cell_type": "code",
   "execution_count": 1,
   "id": "1a753b14-fc67-4c32-a9a1-cf85718ecc56",
   "metadata": {},
   "outputs": [],
   "source": [
    "# general\n",
    "import sys\n",
    "import numpy as np\n",
    "import pandas as pd\n",
    "pd.plotting.register_matplotlib_converters()\n",
    "\n",
    "# mpl\n",
    "import matplotlib as mpl\n",
    "import matplotlib.pyplot as plt\n",
    "\n",
    "# plotly\n",
    "import plotly\n",
    "import plotly.express as px\n",
    "import plotly.io as pio\n",
    "import plotly.figure_factory as ff\n",
    "import plotly.graph_objects as go\n",
    "pio.renderers.default = 'iframe'\n",
    "\n",
    "\n",
    "# stats\n",
    "from scipy import stats\n",
    "#from lmfit.models import GaussianModel\n",
    "\n",
    "# my helper functions\n",
    "sys.path.insert(0, '../helpers/')\n",
    "import pd_helpers\n",
    "import plotly_helpers"
   ]
  },
  {
   "cell_type": "markdown",
   "id": "cab7b665-61de-4a02-9456-082113781ecc",
   "metadata": {
    "jp-MarkdownHeadingCollapsed": true,
    "tags": []
   },
   "source": [
    "## 1. Initial Data Exploration\n",
    "<sup>[Go to top](#Battery-Data-Exploration)</sup>  \n",
    "Here I explore the dataset I found without much prior knowledge of the data.\n"
   ]
  },
  {
   "cell_type": "code",
   "execution_count": 2,
   "id": "321ccd40-b463-413f-bba3-e2ddcdc4489a",
   "metadata": {},
   "outputs": [],
   "source": [
    "# import data\n",
    "bat_path = './data/Battery_RUL.csv'\n",
    "bat_data = pd.read_csv(bat_path) \n"
   ]
  },
  {
   "cell_type": "code",
   "execution_count": 3,
   "id": "edf99b10-bee4-4a33-bcc9-ebaa1773c1ec",
   "metadata": {},
   "outputs": [
    {
     "name": "stdout",
     "output_type": "stream",
     "text": [
      "<class 'pandas.core.frame.DataFrame'>\n",
      "RangeIndex: 15064 entries, 0 to 15063\n",
      "Data columns (total 9 columns):\n",
      " #   Column                     Non-Null Count  Dtype  \n",
      "---  ------                     --------------  -----  \n",
      " 0   Cycle_Index                15064 non-null  float64\n",
      " 1   Discharge Time (s)         15064 non-null  float64\n",
      " 2   Decrement 3.6-3.4V (s)     15064 non-null  float64\n",
      " 3   Max. Voltage Dischar. (V)  15064 non-null  float64\n",
      " 4   Min. Voltage Charg. (V)    15064 non-null  float64\n",
      " 5   Time at 4.15V (s)          15064 non-null  float64\n",
      " 6   Time constant current (s)  15064 non-null  float64\n",
      " 7   Charging time (s)          15064 non-null  float64\n",
      " 8   RUL                        15064 non-null  int64  \n",
      "dtypes: float64(8), int64(1)\n",
      "memory usage: 1.0 MB\n"
     ]
    }
   ],
   "source": [
    "# explore data\n",
    "bat_data.info()"
   ]
  },
  {
   "cell_type": "code",
   "execution_count": 4,
   "id": "a4ec0a4b-8270-4825-9b8b-8dc22f3becbe",
   "metadata": {},
   "outputs": [
    {
     "data": {
      "text/html": [
       "<div>\n",
       "<style scoped>\n",
       "    .dataframe tbody tr th:only-of-type {\n",
       "        vertical-align: middle;\n",
       "    }\n",
       "\n",
       "    .dataframe tbody tr th {\n",
       "        vertical-align: top;\n",
       "    }\n",
       "\n",
       "    .dataframe thead th {\n",
       "        text-align: right;\n",
       "    }\n",
       "</style>\n",
       "<table border=\"1\" class=\"dataframe\">\n",
       "  <thead>\n",
       "    <tr style=\"text-align: right;\">\n",
       "      <th></th>\n",
       "      <th>Cycle_Index</th>\n",
       "      <th>Discharge Time (s)</th>\n",
       "      <th>Decrement 3.6-3.4V (s)</th>\n",
       "      <th>Max. Voltage Dischar. (V)</th>\n",
       "      <th>Min. Voltage Charg. (V)</th>\n",
       "      <th>Time at 4.15V (s)</th>\n",
       "      <th>Time constant current (s)</th>\n",
       "      <th>Charging time (s)</th>\n",
       "      <th>RUL</th>\n",
       "    </tr>\n",
       "  </thead>\n",
       "  <tbody>\n",
       "    <tr>\n",
       "      <th>0</th>\n",
       "      <td>1.0</td>\n",
       "      <td>2595.30</td>\n",
       "      <td>1151.488500</td>\n",
       "      <td>3.670</td>\n",
       "      <td>3.211</td>\n",
       "      <td>5460.001</td>\n",
       "      <td>6755.01</td>\n",
       "      <td>10777.82</td>\n",
       "      <td>1112</td>\n",
       "    </tr>\n",
       "    <tr>\n",
       "      <th>1</th>\n",
       "      <td>2.0</td>\n",
       "      <td>7408.64</td>\n",
       "      <td>1172.512500</td>\n",
       "      <td>4.246</td>\n",
       "      <td>3.220</td>\n",
       "      <td>5508.992</td>\n",
       "      <td>6762.02</td>\n",
       "      <td>10500.35</td>\n",
       "      <td>1111</td>\n",
       "    </tr>\n",
       "    <tr>\n",
       "      <th>2</th>\n",
       "      <td>3.0</td>\n",
       "      <td>7393.76</td>\n",
       "      <td>1112.992000</td>\n",
       "      <td>4.249</td>\n",
       "      <td>3.224</td>\n",
       "      <td>5508.993</td>\n",
       "      <td>6762.02</td>\n",
       "      <td>10420.38</td>\n",
       "      <td>1110</td>\n",
       "    </tr>\n",
       "    <tr>\n",
       "      <th>15061</th>\n",
       "      <td>1110.0</td>\n",
       "      <td>769.12</td>\n",
       "      <td>179.357143</td>\n",
       "      <td>3.773</td>\n",
       "      <td>3.742</td>\n",
       "      <td>915.513</td>\n",
       "      <td>1412.31</td>\n",
       "      <td>6637.12</td>\n",
       "      <td>2</td>\n",
       "    </tr>\n",
       "    <tr>\n",
       "      <th>15062</th>\n",
       "      <td>1111.0</td>\n",
       "      <td>773.88</td>\n",
       "      <td>162.374667</td>\n",
       "      <td>3.763</td>\n",
       "      <td>3.839</td>\n",
       "      <td>539.375</td>\n",
       "      <td>1148.00</td>\n",
       "      <td>7660.62</td>\n",
       "      <td>1</td>\n",
       "    </tr>\n",
       "    <tr>\n",
       "      <th>15063</th>\n",
       "      <td>1112.0</td>\n",
       "      <td>677537.27</td>\n",
       "      <td>142740.640000</td>\n",
       "      <td>4.206</td>\n",
       "      <td>3.305</td>\n",
       "      <td>49680.004</td>\n",
       "      <td>599830.14</td>\n",
       "      <td>599830.14</td>\n",
       "      <td>0</td>\n",
       "    </tr>\n",
       "  </tbody>\n",
       "</table>\n",
       "</div>"
      ],
      "text/plain": [
       "       Cycle_Index  Discharge Time (s)  Decrement 3.6-3.4V (s)  \\\n",
       "0              1.0             2595.30             1151.488500   \n",
       "1              2.0             7408.64             1172.512500   \n",
       "2              3.0             7393.76             1112.992000   \n",
       "15061       1110.0              769.12              179.357143   \n",
       "15062       1111.0              773.88              162.374667   \n",
       "15063       1112.0           677537.27           142740.640000   \n",
       "\n",
       "       Max. Voltage Dischar. (V)  Min. Voltage Charg. (V)  Time at 4.15V (s)  \\\n",
       "0                          3.670                    3.211           5460.001   \n",
       "1                          4.246                    3.220           5508.992   \n",
       "2                          4.249                    3.224           5508.993   \n",
       "15061                      3.773                    3.742            915.513   \n",
       "15062                      3.763                    3.839            539.375   \n",
       "15063                      4.206                    3.305          49680.004   \n",
       "\n",
       "       Time constant current (s)  Charging time (s)   RUL  \n",
       "0                        6755.01           10777.82  1112  \n",
       "1                        6762.02           10500.35  1111  \n",
       "2                        6762.02           10420.38  1110  \n",
       "15061                    1412.31            6637.12     2  \n",
       "15062                    1148.00            7660.62     1  \n",
       "15063                  599830.14          599830.14     0  "
      ]
     },
     "execution_count": 4,
     "metadata": {},
     "output_type": "execute_result"
    }
   ],
   "source": [
    "# look at top two and bottom two rows\n",
    "pd_helpers.pd_headtail(bat_data)"
   ]
  },
  {
   "cell_type": "markdown",
   "id": "2fb6bf90-0550-42d7-ac34-aa59fe15fbeb",
   "metadata": {
    "jp-MarkdownHeadingCollapsed": true,
    "tags": []
   },
   "source": [
    "------------\n",
    "There are more cycle indexes than rows. Let's try to understand this by plotting the indexes on a histogram.\n",
    "\n",
    "### 1.1 Looking at Cycle Indexes"
   ]
  },
  {
   "cell_type": "code",
   "execution_count": 5,
   "id": "47a88129-2fb5-410e-a310-b2f98adbc6bb",
   "metadata": {},
   "outputs": [
    {
     "data": {
      "text/html": [
       "<iframe\n",
       "    scrolling=\"no\"\n",
       "    width=\"100%\"\n",
       "    height=\"545px\"\n",
       "    src=\"iframe_figures/figure_5.html\"\n",
       "    frameborder=\"0\"\n",
       "    allowfullscreen\n",
       "></iframe>\n"
      ]
     },
     "metadata": {},
     "output_type": "display_data"
    }
   ],
   "source": [
    "# cycle index histo\n",
    "fig = px.histogram(bat_data, x='Cycle_Index',nbins=1000)\n",
    "fig.show()"
   ]
  },
  {
   "cell_type": "markdown",
   "id": "469a264f-cd59-481c-bd67-0f0a0cc2bfe0",
   "metadata": {},
   "source": [
    "---------------\n",
    "Let's look at rows with `Cycle_Index == 1`"
   ]
  },
  {
   "cell_type": "code",
   "execution_count": 6,
   "id": "12df4891-be0b-477e-af59-60ead474ab79",
   "metadata": {},
   "outputs": [
    {
     "name": "stdout",
     "output_type": "stream",
     "text": [
      "14\n"
     ]
    },
    {
     "data": {
      "text/html": [
       "<div>\n",
       "<style scoped>\n",
       "    .dataframe tbody tr th:only-of-type {\n",
       "        vertical-align: middle;\n",
       "    }\n",
       "\n",
       "    .dataframe tbody tr th {\n",
       "        vertical-align: top;\n",
       "    }\n",
       "\n",
       "    .dataframe thead th {\n",
       "        text-align: right;\n",
       "    }\n",
       "</style>\n",
       "<table border=\"1\" class=\"dataframe\">\n",
       "  <thead>\n",
       "    <tr style=\"text-align: right;\">\n",
       "      <th></th>\n",
       "      <th>Cycle_Index</th>\n",
       "      <th>Discharge Time (s)</th>\n",
       "      <th>Decrement 3.6-3.4V (s)</th>\n",
       "      <th>Max. Voltage Dischar. (V)</th>\n",
       "      <th>Min. Voltage Charg. (V)</th>\n",
       "      <th>Time at 4.15V (s)</th>\n",
       "      <th>Time constant current (s)</th>\n",
       "      <th>Charging time (s)</th>\n",
       "      <th>RUL</th>\n",
       "    </tr>\n",
       "  </thead>\n",
       "  <tbody>\n",
       "    <tr>\n",
       "      <th>0</th>\n",
       "      <td>1.0</td>\n",
       "      <td>2595.30</td>\n",
       "      <td>1151.4885</td>\n",
       "      <td>3.670</td>\n",
       "      <td>3.211</td>\n",
       "      <td>5460.001</td>\n",
       "      <td>6755.01</td>\n",
       "      <td>10777.82</td>\n",
       "      <td>1112</td>\n",
       "    </tr>\n",
       "    <tr>\n",
       "      <th>1076</th>\n",
       "      <td>1.0</td>\n",
       "      <td>2604.00</td>\n",
       "      <td>1186.4955</td>\n",
       "      <td>3.666</td>\n",
       "      <td>3.213</td>\n",
       "      <td>5424.991</td>\n",
       "      <td>6706.02</td>\n",
       "      <td>10772.99</td>\n",
       "      <td>1107</td>\n",
       "    </tr>\n",
       "    <tr>\n",
       "      <th>2155</th>\n",
       "      <td>1.0</td>\n",
       "      <td>2562.02</td>\n",
       "      <td>1140.9910</td>\n",
       "      <td>3.666</td>\n",
       "      <td>3.219</td>\n",
       "      <td>5452.993</td>\n",
       "      <td>6740.99</td>\n",
       "      <td>10836.00</td>\n",
       "      <td>1107</td>\n",
       "    </tr>\n",
       "    <tr>\n",
       "      <th>3232</th>\n",
       "      <td>1.0</td>\n",
       "      <td>2566.08</td>\n",
       "      <td>1161.9830</td>\n",
       "      <td>3.667</td>\n",
       "      <td>3.214</td>\n",
       "      <td>5452.992</td>\n",
       "      <td>6740.99</td>\n",
       "      <td>10938.33</td>\n",
       "      <td>1107</td>\n",
       "    </tr>\n",
       "    <tr>\n",
       "      <th>4313</th>\n",
       "      <td>1.0</td>\n",
       "      <td>2590.02</td>\n",
       "      <td>1239.0070</td>\n",
       "      <td>3.660</td>\n",
       "      <td>3.225</td>\n",
       "      <td>5376.000</td>\n",
       "      <td>6678.01</td>\n",
       "      <td>10821.98</td>\n",
       "      <td>1133</td>\n",
       "    </tr>\n",
       "  </tbody>\n",
       "</table>\n",
       "</div>"
      ],
      "text/plain": [
       "      Cycle_Index  Discharge Time (s)  Decrement 3.6-3.4V (s)  \\\n",
       "0             1.0             2595.30               1151.4885   \n",
       "1076          1.0             2604.00               1186.4955   \n",
       "2155          1.0             2562.02               1140.9910   \n",
       "3232          1.0             2566.08               1161.9830   \n",
       "4313          1.0             2590.02               1239.0070   \n",
       "\n",
       "      Max. Voltage Dischar. (V)  Min. Voltage Charg. (V)  Time at 4.15V (s)  \\\n",
       "0                         3.670                    3.211           5460.001   \n",
       "1076                      3.666                    3.213           5424.991   \n",
       "2155                      3.666                    3.219           5452.993   \n",
       "3232                      3.667                    3.214           5452.992   \n",
       "4313                      3.660                    3.225           5376.000   \n",
       "\n",
       "      Time constant current (s)  Charging time (s)   RUL  \n",
       "0                       6755.01           10777.82  1112  \n",
       "1076                    6706.02           10772.99  1107  \n",
       "2155                    6740.99           10836.00  1107  \n",
       "3232                    6740.99           10938.33  1107  \n",
       "4313                    6678.01           10821.98  1133  "
      ]
     },
     "execution_count": 6,
     "metadata": {},
     "output_type": "execute_result"
    }
   ],
   "source": [
    "init_rows = bat_data.loc[ bat_data.Cycle_Index == 1 ]\n",
    "print(len(init_rows))\n",
    "init_rows.head()"
   ]
  },
  {
   "cell_type": "markdown",
   "id": "f26c7141-421f-4d9e-acf1-804824068755",
   "metadata": {},
   "source": [
    "------------------\n",
    "Here I see that the data describes 14 batteries. The cycling data is in fact concatenated. From the figure above we can also see that some cycling data is missing. I will now mark each battery.\n",
    "\n",
    "------------------"
   ]
  },
  {
   "cell_type": "markdown",
   "id": "72cd01c7-117c-4fc1-862a-245d038fd719",
   "metadata": {
    "jp-MarkdownHeadingCollapsed": true,
    "tags": []
   },
   "source": [
    "### 1.2 Adding battery ID's to the data frame"
   ]
  },
  {
   "cell_type": "code",
   "execution_count": 7,
   "id": "7b725253-c7d5-4b89-b9b4-d3eb5e285d4d",
   "metadata": {},
   "outputs": [],
   "source": [
    "# save a copy of the original data\n",
    "bat_data_orig = bat_data.copy()"
   ]
  },
  {
   "cell_type": "code",
   "execution_count": 8,
   "id": "d0fdccce-8039-471f-8c72-a624f364df3f",
   "metadata": {},
   "outputs": [
    {
     "data": {
      "text/plain": [
       "0       0\n",
       "1    1076\n",
       "2    2155\n",
       "3    3232\n",
       "4    4313\n",
       "dtype: int64"
      ]
     },
     "execution_count": 8,
     "metadata": {},
     "output_type": "execute_result"
    }
   ],
   "source": [
    "#get index of each first cycle\n",
    "init_indexes = pd.Series(init_rows.index)\n",
    "init_indexes.head(5)\n"
   ]
  },
  {
   "cell_type": "code",
   "execution_count": 9,
   "id": "c5f71148-146b-4f95-bd2a-9f7436a78ed2",
   "metadata": {},
   "outputs": [],
   "source": [
    "# define mapping function\n",
    "def bat_id_map(init_indexes, val):\n",
    "    \n",
    "    # init_indexes -- pd.Series of initial cycle indexes\n",
    "    #                 sorted lowest to highest\n",
    "    \n",
    "    # val -- comparison value\n",
    "    return init_indexes[init_indexes<=val].idxmax()\n",
    "\n",
    "# --------------------------------\n",
    "# map batteries\n",
    "bat_data['Battery_ID'] = bat_data.index.map(lambda i : bat_id_map(init_indexes,i))"
   ]
  },
  {
   "cell_type": "code",
   "execution_count": 10,
   "id": "e62ecaf9-9f88-4c8f-b7d5-c49f2bc880cb",
   "metadata": {},
   "outputs": [
    {
     "data": {
      "text/html": [
       "<div>\n",
       "<style scoped>\n",
       "    .dataframe tbody tr th:only-of-type {\n",
       "        vertical-align: middle;\n",
       "    }\n",
       "\n",
       "    .dataframe tbody tr th {\n",
       "        vertical-align: top;\n",
       "    }\n",
       "\n",
       "    .dataframe thead th {\n",
       "        text-align: right;\n",
       "    }\n",
       "</style>\n",
       "<table border=\"1\" class=\"dataframe\">\n",
       "  <thead>\n",
       "    <tr style=\"text-align: right;\">\n",
       "      <th></th>\n",
       "      <th>Cycle_Index</th>\n",
       "      <th>Discharge Time (s)</th>\n",
       "      <th>Decrement 3.6-3.4V (s)</th>\n",
       "      <th>Max. Voltage Dischar. (V)</th>\n",
       "      <th>Min. Voltage Charg. (V)</th>\n",
       "      <th>Time at 4.15V (s)</th>\n",
       "      <th>Time constant current (s)</th>\n",
       "      <th>Charging time (s)</th>\n",
       "      <th>RUL</th>\n",
       "      <th>Battery_ID</th>\n",
       "    </tr>\n",
       "  </thead>\n",
       "  <tbody>\n",
       "    <tr>\n",
       "      <th>0</th>\n",
       "      <td>1.0</td>\n",
       "      <td>2595.30</td>\n",
       "      <td>1151.488500</td>\n",
       "      <td>3.670</td>\n",
       "      <td>3.211</td>\n",
       "      <td>5460.001</td>\n",
       "      <td>6755.01</td>\n",
       "      <td>10777.82</td>\n",
       "      <td>1112</td>\n",
       "      <td>0</td>\n",
       "    </tr>\n",
       "    <tr>\n",
       "      <th>1</th>\n",
       "      <td>2.0</td>\n",
       "      <td>7408.64</td>\n",
       "      <td>1172.512500</td>\n",
       "      <td>4.246</td>\n",
       "      <td>3.220</td>\n",
       "      <td>5508.992</td>\n",
       "      <td>6762.02</td>\n",
       "      <td>10500.35</td>\n",
       "      <td>1111</td>\n",
       "      <td>0</td>\n",
       "    </tr>\n",
       "    <tr>\n",
       "      <th>2</th>\n",
       "      <td>3.0</td>\n",
       "      <td>7393.76</td>\n",
       "      <td>1112.992000</td>\n",
       "      <td>4.249</td>\n",
       "      <td>3.224</td>\n",
       "      <td>5508.993</td>\n",
       "      <td>6762.02</td>\n",
       "      <td>10420.38</td>\n",
       "      <td>1110</td>\n",
       "      <td>0</td>\n",
       "    </tr>\n",
       "    <tr>\n",
       "      <th>3</th>\n",
       "      <td>4.0</td>\n",
       "      <td>7385.50</td>\n",
       "      <td>1080.320667</td>\n",
       "      <td>4.250</td>\n",
       "      <td>3.225</td>\n",
       "      <td>5502.016</td>\n",
       "      <td>6762.02</td>\n",
       "      <td>10322.81</td>\n",
       "      <td>1109</td>\n",
       "      <td>0</td>\n",
       "    </tr>\n",
       "    <tr>\n",
       "      <th>4</th>\n",
       "      <td>6.0</td>\n",
       "      <td>65022.75</td>\n",
       "      <td>29813.487000</td>\n",
       "      <td>4.290</td>\n",
       "      <td>3.398</td>\n",
       "      <td>5480.992</td>\n",
       "      <td>53213.54</td>\n",
       "      <td>56699.65</td>\n",
       "      <td>1107</td>\n",
       "      <td>0</td>\n",
       "    </tr>\n",
       "  </tbody>\n",
       "</table>\n",
       "</div>"
      ],
      "text/plain": [
       "   Cycle_Index  Discharge Time (s)  Decrement 3.6-3.4V (s)  \\\n",
       "0          1.0             2595.30             1151.488500   \n",
       "1          2.0             7408.64             1172.512500   \n",
       "2          3.0             7393.76             1112.992000   \n",
       "3          4.0             7385.50             1080.320667   \n",
       "4          6.0            65022.75            29813.487000   \n",
       "\n",
       "   Max. Voltage Dischar. (V)  Min. Voltage Charg. (V)  Time at 4.15V (s)  \\\n",
       "0                      3.670                    3.211           5460.001   \n",
       "1                      4.246                    3.220           5508.992   \n",
       "2                      4.249                    3.224           5508.993   \n",
       "3                      4.250                    3.225           5502.016   \n",
       "4                      4.290                    3.398           5480.992   \n",
       "\n",
       "   Time constant current (s)  Charging time (s)   RUL  Battery_ID  \n",
       "0                    6755.01           10777.82  1112           0  \n",
       "1                    6762.02           10500.35  1111           0  \n",
       "2                    6762.02           10420.38  1110           0  \n",
       "3                    6762.02           10322.81  1109           0  \n",
       "4                   53213.54           56699.65  1107           0  "
      ]
     },
     "metadata": {},
     "output_type": "display_data"
    },
    {
     "data": {
      "text/html": [
       "<div>\n",
       "<style scoped>\n",
       "    .dataframe tbody tr th:only-of-type {\n",
       "        vertical-align: middle;\n",
       "    }\n",
       "\n",
       "    .dataframe tbody tr th {\n",
       "        vertical-align: top;\n",
       "    }\n",
       "\n",
       "    .dataframe thead th {\n",
       "        text-align: right;\n",
       "    }\n",
       "</style>\n",
       "<table border=\"1\" class=\"dataframe\">\n",
       "  <thead>\n",
       "    <tr style=\"text-align: right;\">\n",
       "      <th></th>\n",
       "      <th>Cycle_Index</th>\n",
       "      <th>Discharge Time (s)</th>\n",
       "      <th>Decrement 3.6-3.4V (s)</th>\n",
       "      <th>Max. Voltage Dischar. (V)</th>\n",
       "      <th>Min. Voltage Charg. (V)</th>\n",
       "      <th>Time at 4.15V (s)</th>\n",
       "      <th>Time constant current (s)</th>\n",
       "      <th>Charging time (s)</th>\n",
       "      <th>RUL</th>\n",
       "      <th>Battery_ID</th>\n",
       "    </tr>\n",
       "  </thead>\n",
       "  <tbody>\n",
       "    <tr>\n",
       "      <th>478</th>\n",
       "      <td>500.0</td>\n",
       "      <td>1604.16</td>\n",
       "      <td>459.839429</td>\n",
       "      <td>3.944</td>\n",
       "      <td>3.545</td>\n",
       "      <td>3098.360</td>\n",
       "      <td>3968.36</td>\n",
       "      <td>8013.70</td>\n",
       "      <td>613</td>\n",
       "      <td>0</td>\n",
       "    </tr>\n",
       "    <tr>\n",
       "      <th>1554</th>\n",
       "      <td>500.0</td>\n",
       "      <td>1587.87</td>\n",
       "      <td>409.285714</td>\n",
       "      <td>3.884</td>\n",
       "      <td>3.589</td>\n",
       "      <td>2974.752</td>\n",
       "      <td>3860.35</td>\n",
       "      <td>8379.71</td>\n",
       "      <td>608</td>\n",
       "      <td>1</td>\n",
       "    </tr>\n",
       "    <tr>\n",
       "      <th>2631</th>\n",
       "      <td>500.0</td>\n",
       "      <td>1631.84</td>\n",
       "      <td>470.571429</td>\n",
       "      <td>3.927</td>\n",
       "      <td>3.556</td>\n",
       "      <td>3176.223</td>\n",
       "      <td>4040.22</td>\n",
       "      <td>8225.22</td>\n",
       "      <td>608</td>\n",
       "      <td>2</td>\n",
       "    </tr>\n",
       "    <tr>\n",
       "      <th>3711</th>\n",
       "      <td>500.0</td>\n",
       "      <td>1638.15</td>\n",
       "      <td>480.857143</td>\n",
       "      <td>3.934</td>\n",
       "      <td>3.551</td>\n",
       "      <td>3205.151</td>\n",
       "      <td>4076.35</td>\n",
       "      <td>8285.41</td>\n",
       "      <td>608</td>\n",
       "      <td>3</td>\n",
       "    </tr>\n",
       "    <tr>\n",
       "      <th>4794</th>\n",
       "      <td>500.0</td>\n",
       "      <td>1656.00</td>\n",
       "      <td>476.000000</td>\n",
       "      <td>3.935</td>\n",
       "      <td>3.549</td>\n",
       "      <td>3284.320</td>\n",
       "      <td>4148.32</td>\n",
       "      <td>8396.32</td>\n",
       "      <td>634</td>\n",
       "      <td>4</td>\n",
       "    </tr>\n",
       "  </tbody>\n",
       "</table>\n",
       "</div>"
      ],
      "text/plain": [
       "      Cycle_Index  Discharge Time (s)  Decrement 3.6-3.4V (s)  \\\n",
       "478         500.0             1604.16              459.839429   \n",
       "1554        500.0             1587.87              409.285714   \n",
       "2631        500.0             1631.84              470.571429   \n",
       "3711        500.0             1638.15              480.857143   \n",
       "4794        500.0             1656.00              476.000000   \n",
       "\n",
       "      Max. Voltage Dischar. (V)  Min. Voltage Charg. (V)  Time at 4.15V (s)  \\\n",
       "478                       3.944                    3.545           3098.360   \n",
       "1554                      3.884                    3.589           2974.752   \n",
       "2631                      3.927                    3.556           3176.223   \n",
       "3711                      3.934                    3.551           3205.151   \n",
       "4794                      3.935                    3.549           3284.320   \n",
       "\n",
       "      Time constant current (s)  Charging time (s)  RUL  Battery_ID  \n",
       "478                     3968.36            8013.70  613           0  \n",
       "1554                    3860.35            8379.71  608           1  \n",
       "2631                    4040.22            8225.22  608           2  \n",
       "3711                    4076.35            8285.41  608           3  \n",
       "4794                    4148.32            8396.32  634           4  "
      ]
     },
     "execution_count": 10,
     "metadata": {},
     "output_type": "execute_result"
    }
   ],
   "source": [
    "# testing\n",
    "display(bat_data.head())\n",
    "bat_data.loc[ bat_data.Cycle_Index == 500 ].head()"
   ]
  },
  {
   "cell_type": "markdown",
   "id": "ee362339-42b0-419d-ba0d-ee46f61701bb",
   "metadata": {
    "jp-MarkdownHeadingCollapsed": true,
    "tags": []
   },
   "source": [
    "## 2. Data Overview\n",
    "<sup>[Go to top](#Battery-Data-Exploration)</sup> "
   ]
  },
  {
   "cell_type": "markdown",
   "id": "41fe0d6a-c131-4d82-ac3f-928d8bb1924f",
   "metadata": {},
   "source": [
    "- There are 14 batteries in the dataset\n",
    "- Each battery is cycled for ~1100 times\n",
    "- Each cycle is one discharge and charge\n",
    "- `Cycle_Index` indexes each cycle\n",
    "\n",
    "- The battery is charged at a nominal rate of C/2 (1h/0.5 = 2h = 7.2k s) and discharged at a rate of 1.5C (1h/1.5 = 40 min = 2.4k s) \n",
    "- `Discharge` and `Charge` time is the time it takes to fully discharge and charge the battery \n",
    "- `Decrement 3.6-3.4V` marks the time beween those voltages during discharge\n",
    "- `Max/Min Voltage` marks the max (min) voltage before each discharge (charge)\n",
    "- `Time at 4.15V` indicates the moment in time during charge when the battery hits 4.15V\n",
    "- During the charge cycle the battery is at first charged at **constant current** and then at **constant voltage** \n",
    "- `Time constant current (s)` shows the time the battery has spent in **constant cuurent** mode\n",
    "- `RUL` - remaining useful life of the battery measured in **# of cycles**"
   ]
  },
  {
   "cell_type": "markdown",
   "id": "d25de203-95f1-4a24-a761-cf6bf1bf8a1c",
   "metadata": {
    "jp-MarkdownHeadingCollapsed": true,
    "tags": []
   },
   "source": [
    "## 3. Looking at the distributions\n",
    "<sup>[Go to top](#Battery-Data-Exploration)</sup>"
   ]
  },
  {
   "cell_type": "markdown",
   "id": "fec51bc1-6c34-40af-9498-b787ee19db50",
   "metadata": {
    "jp-MarkdownHeadingCollapsed": true,
    "tags": []
   },
   "source": [
    "##### _Plot Cosmetics_"
   ]
  },
  {
   "cell_type": "code",
   "execution_count": 11,
   "id": "dd6e9edb-9049-4e1a-b8ae-4e54c599947a",
   "metadata": {},
   "outputs": [],
   "source": [
    "fig_labels = { 'Cycle_Index' : 'Cycle Number'\n",
    "              ,'Battery_ID'   : 'Battery ID'\n",
    "             }"
   ]
  },
  {
   "cell_type": "markdown",
   "id": "847a2064-c75c-4bf9-ae3b-f7f45844ed6a",
   "metadata": {
    "tags": []
   },
   "source": [
    "#### 3.1 Cycle # vs Discharge and Charge Time\n",
    "\n",
    "The discharge and charge times are expected to shorten with the number of cycles as the batery gets worn and its capacity decreases. I plot the cycle number against the discharging / charging time to see this relationship."
   ]
  },
  {
   "cell_type": "markdown",
   "id": "ab2a9286-8642-4eea-9371-116ac2f49859",
   "metadata": {
    "jp-MarkdownHeadingCollapsed": true,
    "tags": []
   },
   "source": [
    "##### First attempt : Seeing the Outliers"
   ]
  },
  {
   "cell_type": "code",
   "execution_count": 12,
   "id": "52e03052-3334-4809-aff1-e106fd58c9d2",
   "metadata": {},
   "outputs": [
    {
     "data": {
      "text/html": [
       "<iframe\n",
       "    scrolling=\"no\"\n",
       "    width=\"100%\"\n",
       "    height=\"545px\"\n",
       "    src=\"iframe_figures/figure_12.html\"\n",
       "    frameborder=\"0\"\n",
       "    allowfullscreen\n",
       "></iframe>\n"
      ]
     },
     "metadata": {},
     "output_type": "display_data"
    }
   ],
   "source": [
    "# title\n",
    "sp1_title = \"Charge time development over consecutive cycles\"\n",
    "\n",
    "# plots \n",
    "plots_y = ['Discharge Time (s)','Charging time (s)']\n",
    "\n",
    "sp_figs = []\n",
    "for y in plots_y :\n",
    "    fig = px.scatter(bat_data\n",
    "                     ,x = 'Cycle_Index'\n",
    "                     ,y = y\n",
    "                     ,color = 'Battery_ID')\n",
    "    sp_figs.append(fig)\n",
    "\n",
    "\n",
    "# put px plots into subplots\n",
    "sp1 = plotly_helpers.make_px_subplots(sp_figs,1,2,plots_y\n",
    "                                      ,x_labels=['Cycle Number' for i in sp_figs ]\n",
    "                                      ,y_labels=plots_y\n",
    "                                      ,c_label='Battery ID')\n",
    " \n",
    "    \n",
    "# cosmetics\n",
    "sp1.update_layout(title=sp1_title\n",
    "                 ,coloraxis = {'colorscale':'viridis'})\n",
    "\n",
    "# draw\n",
    "sp1.show()\n"
   ]
  },
  {
   "cell_type": "markdown",
   "id": "b89eb759-69bf-4b45-8ad9-388e7a81a628",
   "metadata": {
    "jp-MarkdownHeadingCollapsed": true,
    "tags": []
   },
   "source": [
    "##### Second attempt : Outliers Removed\n",
    "\n",
    "There are outliers in the data. These could be special charging cycles. \n",
    "\n",
    "For better visibility I plot the distributions with the outliers removed."
   ]
  },
  {
   "cell_type": "code",
   "execution_count": 43,
   "id": "4b363c49-bea3-4aa0-91ee-450e2918f4cc",
   "metadata": {},
   "outputs": [
    {
     "data": {
      "text/html": [
       "<iframe\n",
       "    scrolling=\"no\"\n",
       "    width=\"100%\"\n",
       "    height=\"545px\"\n",
       "    src=\"iframe_figures/figure_43.html\"\n",
       "    frameborder=\"0\"\n",
       "    allowfullscreen\n",
       "></iframe>\n"
      ]
     },
     "metadata": {},
     "output_type": "display_data"
    }
   ],
   "source": [
    "# making the same plots as above but with the outliers removed\n",
    "\n",
    "outlier_th = [3e3,12e3]   # discharge, charge\n",
    "\n",
    "# making subfigures\n",
    "sp_figs = []\n",
    "y_labels = []\n",
    "\n",
    "for i,y in enumerate(plots_y) :\n",
    "    fig = px.scatter(bat_data[bat_data[y] < outlier_th[i]]\n",
    "                     ,x = 'Cycle_Index'\n",
    "                     ,y = y\n",
    "                     ,trendline='ols'\n",
    "                     ,trendline_color_override='red'\n",
    "                     ,color = 'Battery_ID')\n",
    "    sp_figs.append(fig)\n",
    "    y_labels.append(y+' < '+'{:.1e}'.format(outlier_th[i]))\n",
    "\n",
    "# put px plots into subplots\n",
    "sp2 = plotly_helpers.make_px_subplots(sp_figs,1,2,plots_y\n",
    "                                      ,x_labels=['Cycle Index' for i in sp_figs ]\n",
    "                                      ,y_labels=y_labels\n",
    "                                      ,c_label='Battery ID')\n",
    " \n",
    "    \n",
    "# cosmetics\n",
    "sp2.update_layout(title=sp1_title+\", outliers removed\"\n",
    "                 ,coloraxis = {'colorscale':'viridis'})\n",
    "\n",
    "# draw\n",
    "sp2.show()\n",
    "\n"
   ]
  },
  {
   "cell_type": "markdown",
   "id": "25ea8d30-468d-4fb8-99f0-d3b73877a799",
   "metadata": {
    "tags": []
   },
   "source": [
    "Both charge and discharge time show the expected relationship to the number of cycles.\n",
    "\n",
    "\n",
    "#### 3.2 Cycle # vs Min and Max Voltage \n",
    "\n",
    "The **minimum voltage at discharge** and **maximum voltage at charge** are also related to the resistance and capacity of the battery.\n",
    "\n",
    "For example, after a full charge, when the current is disconnected the voltage of the battery drops due to **polarisation effects**. This voltage is given as the variable `Max. Voltage Dischar.`, i.e. the max voltage before the start of the discharge. The size of the drop is related to the resistance of the battery, and the current used to charge it.     \n",
    "\n",
    "As the battery wears, the **resistance of the batery increases**, the **maximum voltage at discharge** decreases, and the **minimum voltage at charge** increases. Let's see these distributions.\n"
   ]
  },
  {
   "cell_type": "code",
   "execution_count": 44,
   "id": "7174d38f-e2db-4387-9490-b60b07977a79",
   "metadata": {},
   "outputs": [
    {
     "data": {
      "text/html": [
       "<iframe\n",
       "    scrolling=\"no\"\n",
       "    width=\"100%\"\n",
       "    height=\"545px\"\n",
       "    src=\"iframe_figures/figure_44.html\"\n",
       "    frameborder=\"0\"\n",
       "    allowfullscreen\n",
       "></iframe>\n"
      ]
     },
     "metadata": {},
     "output_type": "display_data"
    }
   ],
   "source": [
    "# title\n",
    "sp1_title = \"Max and Min Voltage development over consecutive cycles\"\n",
    "\n",
    "# plots \n",
    "plots_y = ['Max. Voltage Dischar. (V)','Min. Voltage Charg. (V)']\n",
    "\n",
    "sp_figs = []\n",
    "for y in plots_y :\n",
    "    fig = px.scatter(bat_data\n",
    "                     ,x = 'Cycle_Index'\n",
    "                     ,y = y\n",
    "                     ,color = 'Battery_ID')\n",
    "    sp_figs.append(fig)\n",
    "\n",
    "\n",
    "# put px plots into subplots\n",
    "sp3 = plotly_helpers.make_px_subplots(sp_figs,1,2,plots_y\n",
    "                                      ,x_labels=['Cycle Number' for i in sp_figs ]\n",
    "                                      ,y_labels=plots_y\n",
    "                                      ,c_label='Battery ID')\n",
    " \n",
    "    \n",
    "# cosmetics\n",
    "sp3.update_layout(title=sp1_title\n",
    "                 ,coloraxis = {'colorscale':'viridis'})\n",
    "\n",
    "# draw\n",
    "sp3.show()\n",
    "\n"
   ]
  },
  {
   "cell_type": "markdown",
   "id": "50679156-bb22-4c56-97eb-210ef0e1c7f2",
   "metadata": {
    "tags": []
   },
   "source": [
    "As expected, there is a clear relationship can be seen between max(min) voltages at discharge(charge) and the cycle number. \n",
    "There also are indications of \"non standard\" cycles creating outliers, as seen previously, when looking at Charge Time.\n",
    "\n",
    "Interestingly charge-related variables seem to have more variation than discharge-related variables.\n",
    "\n",
    "Studying these outlier events will likely be interesting when trying to predict RUL.\n",
    "\n",
    "#### 3.3 Cycle # vs Decrement 3.6 to 3.4 V\n",
    "\n",
    "`Decrement 3.6 to 3.4 V` - time spent between 3.6 and 3.4 V during discharge. As the battery wears down the discharge becomes faster and so should the time spent between these voltages. \n"
   ]
  },
  {
   "cell_type": "markdown",
   "id": "a9d94fee-e41c-40e6-b502-5a966c8bc6eb",
   "metadata": {
    "tags": []
   },
   "source": [
    "##### First attempt: with Outliers"
   ]
  },
  {
   "cell_type": "code",
   "execution_count": 80,
   "id": "cff10663-6b9e-48c1-88ba-355f72eb29c0",
   "metadata": {},
   "outputs": [
    {
     "data": {
      "text/html": [
       "<iframe\n",
       "    scrolling=\"no\"\n",
       "    width=\"100%\"\n",
       "    height=\"545px\"\n",
       "    src=\"iframe_figures/figure_80.html\"\n",
       "    frameborder=\"0\"\n",
       "    allowfullscreen\n",
       "></iframe>\n"
      ]
     },
     "metadata": {},
     "output_type": "display_data"
    }
   ],
   "source": [
    "fig4_title= \"Decrement 3.6-3.4V during discharge over consecutive cycles\"\n",
    "fig4 = px.scatter(bat_data\n",
    "                  ,x='Cycle_Index'\n",
    "                  ,y='Decrement 3.6-3.4V (s)'\n",
    "                  ,color = 'Battery_ID'\n",
    "                  ,color_continuous_scale='viridis'\n",
    "                  ,labels=fig_labels\n",
    "                  ,title =fig4_title)\n",
    "fig4.show()"
   ]
  },
  {
   "cell_type": "markdown",
   "id": "cf81f457-69ce-4452-bd02-2a6e2b1edd59",
   "metadata": {
    "tags": []
   },
   "source": [
    "Again, outliers are preventing from visualising the distributions. \n",
    "\n",
    "Interestingly there are some events with negative time. This is likely bad data, and will need to be dropped before using it for RUL prediction.\n",
    "\n",
    "##### Second attempt: removing the outliers"
   ]
  },
  {
   "cell_type": "code",
   "execution_count": 46,
   "id": "d2442d83-3196-443c-8bb9-deff726bd73c",
   "metadata": {},
   "outputs": [
    {
     "data": {
      "text/html": [
       "<iframe\n",
       "    scrolling=\"no\"\n",
       "    width=\"100%\"\n",
       "    height=\"545px\"\n",
       "    src=\"iframe_figures/figure_46.html\"\n",
       "    frameborder=\"0\"\n",
       "    allowfullscreen\n",
       "></iframe>\n"
      ]
     },
     "metadata": {},
     "output_type": "display_data"
    }
   ],
   "source": [
    "th = [1e4,2e3] # threshold\n",
    "sdc = 'Decrement 3.6-3.4V (s)'\n",
    "\n",
    "sp5_title = fig4_title+', outliers removed'\n",
    " \n",
    "sp_figs = []\n",
    "sp_titles = []\n",
    "for t in th : \n",
    "    plot_data = bat_data.loc[(bat_data[sdc]<t) & (bat_data[sdc]>0)]\n",
    "    fig = px.scatter(plot_data\n",
    "                    ,x='Cycle_Index'\n",
    "                    ,y='Decrement 3.6-3.4V (s)'\n",
    "                    ,color = 'Battery_ID')\n",
    "    sp_figs.append(fig)\n",
    "    sp_titles.append('Threshold = {:.0f}s'.format(t))\n",
    "    \n",
    "    \n",
    "# put px plots into subplots\n",
    "sp5 = plotly_helpers.make_px_subplots(sp_figs,1,2,sp_titles\n",
    "                                      ,x_labels=['Cycle Number' for i in sp_figs ]\n",
    "                                      ,y_labels=['Decrement 3.6-3.4V (s)' for i in sp_figs]\n",
    "                                      ,c_label='Battery ID')\n",
    " \n",
    "    \n",
    "# cosmetics\n",
    "sp5.update_layout(title=sp5_title\n",
    "                 ,coloraxis = {'colorscale':'viridis'})\n",
    "\n",
    "# draw\n",
    "sp5.show()"
   ]
  },
  {
   "cell_type": "markdown",
   "id": "9835eacc-d0e7-4783-99a3-968658d2c05c",
   "metadata": {},
   "source": [
    "We still see outliers above 2000s. These should correspond to large discharge times. I test this bellow."
   ]
  },
  {
   "cell_type": "code",
   "execution_count": 81,
   "id": "cefc7dd5-b065-45cc-b3ba-83917be64af5",
   "metadata": {},
   "outputs": [
    {
     "data": {
      "text/html": [
       "<div>\n",
       "<style scoped>\n",
       "    .dataframe tbody tr th:only-of-type {\n",
       "        vertical-align: middle;\n",
       "    }\n",
       "\n",
       "    .dataframe tbody tr th {\n",
       "        vertical-align: top;\n",
       "    }\n",
       "\n",
       "    .dataframe thead th {\n",
       "        text-align: right;\n",
       "    }\n",
       "</style>\n",
       "<table border=\"1\" class=\"dataframe\">\n",
       "  <thead>\n",
       "    <tr style=\"text-align: right;\">\n",
       "      <th></th>\n",
       "      <th>Cycle_Index</th>\n",
       "      <th>Discharge Time (s)</th>\n",
       "      <th>Decrement 3.6-3.4V (s)</th>\n",
       "      <th>Max. Voltage Dischar. (V)</th>\n",
       "      <th>Min. Voltage Charg. (V)</th>\n",
       "      <th>Time at 4.15V (s)</th>\n",
       "      <th>Time constant current (s)</th>\n",
       "      <th>Charging time (s)</th>\n",
       "      <th>RUL</th>\n",
       "      <th>Battery_ID</th>\n",
       "    </tr>\n",
       "  </thead>\n",
       "  <tbody>\n",
       "    <tr>\n",
       "      <th>1375</th>\n",
       "      <td>301.0</td>\n",
       "      <td>1808.62</td>\n",
       "      <td>495.000</td>\n",
       "      <td>3.927</td>\n",
       "      <td>3.528</td>\n",
       "      <td>3694.650</td>\n",
       "      <td>4616.25</td>\n",
       "      <td>8524.56</td>\n",
       "      <td>807</td>\n",
       "      <td>1</td>\n",
       "    </tr>\n",
       "    <tr>\n",
       "      <th>1376</th>\n",
       "      <td>302.0</td>\n",
       "      <td>1805.00</td>\n",
       "      <td>492.000</td>\n",
       "      <td>3.935</td>\n",
       "      <td>3.724</td>\n",
       "      <td>3598.312</td>\n",
       "      <td>4571.00</td>\n",
       "      <td>8699.50</td>\n",
       "      <td>806</td>\n",
       "      <td>1</td>\n",
       "    </tr>\n",
       "    <tr>\n",
       "      <th>1377</th>\n",
       "      <td>303.0</td>\n",
       "      <td>200939.71</td>\n",
       "      <td>2970.015</td>\n",
       "      <td>4.262</td>\n",
       "      <td>3.289</td>\n",
       "      <td>64709.988</td>\n",
       "      <td>75921.25</td>\n",
       "      <td>75921.25</td>\n",
       "      <td>805</td>\n",
       "      <td>1</td>\n",
       "    </tr>\n",
       "    <tr>\n",
       "      <th>1378</th>\n",
       "      <td>304.0</td>\n",
       "      <td>1860.70</td>\n",
       "      <td>501.000</td>\n",
       "      <td>3.922</td>\n",
       "      <td>3.505</td>\n",
       "      <td>4393.152</td>\n",
       "      <td>5444.35</td>\n",
       "      <td>9830.91</td>\n",
       "      <td>804</td>\n",
       "      <td>1</td>\n",
       "    </tr>\n",
       "    <tr>\n",
       "      <th>1379</th>\n",
       "      <td>305.0</td>\n",
       "      <td>1869.57</td>\n",
       "      <td>509.000</td>\n",
       "      <td>3.926</td>\n",
       "      <td>3.529</td>\n",
       "      <td>3867.551</td>\n",
       "      <td>4796.35</td>\n",
       "      <td>8728.93</td>\n",
       "      <td>803</td>\n",
       "      <td>1</td>\n",
       "    </tr>\n",
       "  </tbody>\n",
       "</table>\n",
       "</div>"
      ],
      "text/plain": [
       "      Cycle_Index  Discharge Time (s)  Decrement 3.6-3.4V (s)  \\\n",
       "1375        301.0             1808.62                 495.000   \n",
       "1376        302.0             1805.00                 492.000   \n",
       "1377        303.0           200939.71                2970.015   \n",
       "1378        304.0             1860.70                 501.000   \n",
       "1379        305.0             1869.57                 509.000   \n",
       "\n",
       "      Max. Voltage Dischar. (V)  Min. Voltage Charg. (V)  Time at 4.15V (s)  \\\n",
       "1375                      3.927                    3.528           3694.650   \n",
       "1376                      3.935                    3.724           3598.312   \n",
       "1377                      4.262                    3.289          64709.988   \n",
       "1378                      3.922                    3.505           4393.152   \n",
       "1379                      3.926                    3.529           3867.551   \n",
       "\n",
       "      Time constant current (s)  Charging time (s)  RUL  Battery_ID  \n",
       "1375                    4616.25            8524.56  807           1  \n",
       "1376                    4571.00            8699.50  806           1  \n",
       "1377                   75921.25           75921.25  805           1  \n",
       "1378                    5444.35            9830.91  804           1  \n",
       "1379                    4796.35            8728.93  803           1  "
      ]
     },
     "execution_count": 81,
     "metadata": {},
     "output_type": "execute_result"
    }
   ],
   "source": [
    "index = bat_data.loc[(bat_data['Battery_ID'] == 1) &(bat_data['Cycle_Index'] == 303)].index[0]\n",
    "bat_data.loc[index-2:index+2]"
   ]
  },
  {
   "cell_type": "markdown",
   "id": "19601b1a-520e-4890-8e43-500eaac87829",
   "metadata": {
    "tags": []
   },
   "source": [
    "As expected, the cycles with the slow discharge times also have slow decrement times. "
   ]
  },
  {
   "cell_type": "markdown",
   "id": "9e113745-754e-431f-b9e6-a76841091378",
   "metadata": {},
   "source": [
    "#### 3.3.1. Discharge Time vs Decrement 3.6-3.4V\n",
    "\n",
    "A positive correlation between decrement time between 3.6-3.4V and full discharge time is expected. "
   ]
  },
  {
   "cell_type": "code",
   "execution_count": 82,
   "id": "a8c86171-7d9b-4bc2-8b53-4e4a3ec2f546",
   "metadata": {},
   "outputs": [
    {
     "data": {
      "text/html": [
       "<iframe\n",
       "    scrolling=\"no\"\n",
       "    width=\"100%\"\n",
       "    height=\"545px\"\n",
       "    src=\"iframe_figures/figure_82.html\"\n",
       "    frameborder=\"0\"\n",
       "    allowfullscreen\n",
       "></iframe>\n"
      ]
     },
     "metadata": {},
     "output_type": "display_data"
    }
   ],
   "source": [
    "plot_data = bat_data.loc[(bat_data[sdc]>0)&(bat_data[sdc]<2000)] # decrement thresholds\n",
    "plot_data = plot_data.loc[(bat_data['Discharge Time (s)']<10000)] # discharge time thresholds (for visibility)\n",
    "\n",
    "fig6_title= \"Decrement 3.6-3.4V vs Discharge time\"\n",
    "fig6 = px.scatter(plot_data\n",
    "                  ,x='Discharge Time (s)'\n",
    "                  ,y='Decrement 3.6-3.4V (s)'\n",
    "                  ,color = 'Battery_ID'\n",
    "                  ,color_continuous_scale='viridis'\n",
    "                  ,labels=fig_labels\n",
    "                  ,title =fig6_title)\n",
    "fig6.show()"
   ]
  },
  {
   "cell_type": "markdown",
   "id": "797ac9f9-db71-48b2-9f1f-da7d917c854e",
   "metadata": {
    "tags": []
   },
   "source": [
    "A positive correlation between 3.6-3.4V decrement and full discharge time is seen, as expected. \n",
    "Again, ouliers with long discharge times are also seen. \n",
    "\n",
    "#### 3.4 Cycle # vs Time at 4.15 V during charge\n",
    "\n"
   ]
  },
  {
   "cell_type": "code",
   "execution_count": 48,
   "id": "acd9924b-cbc6-46e9-b88b-08121d54d467",
   "metadata": {},
   "outputs": [
    {
     "data": {
      "text/html": [
       "<iframe\n",
       "    scrolling=\"no\"\n",
       "    width=\"100%\"\n",
       "    height=\"545px\"\n",
       "    src=\"iframe_figures/figure_48.html\"\n",
       "    frameborder=\"0\"\n",
       "    allowfullscreen\n",
       "></iframe>\n"
      ]
     },
     "metadata": {},
     "output_type": "display_data"
    }
   ],
   "source": [
    "fig7_title= \"Time at 4.15 V during charge over consecutive cycles\"\n",
    "\n",
    "# removing outliers\n",
    "plot_data = bat_data.loc[(bat_data['Time at 4.15V (s)']<1e4)]\n",
    "\n",
    "\n",
    "# make plot\n",
    "fig7 = px.scatter(plot_data\n",
    "                  ,x='Cycle_Index'\n",
    "                  ,y='Time at 4.15V (s)'\n",
    "                  ,color = 'Battery_ID'\n",
    "                  ,color_continuous_scale='viridis'\n",
    "                  ,labels=fig_labels\n",
    "                  ,title =fig7_title)\n",
    "fig7.show()"
   ]
  },
  {
   "cell_type": "markdown",
   "id": "0f8c54f6-6291-4e65-abcc-27e0b5766250",
   "metadata": {
    "tags": []
   },
   "source": [
    "The moment in time during charge, when the voltage reaches 4.15 V decreases with cycle number. This behaviour is expected as the time it takes to charge the battery shortens as the battery deteriorates.\n",
    "\n",
    "#### 3.4.1 Charge Time vs Time at 4.15 V during charge\n",
    "\n"
   ]
  },
  {
   "cell_type": "code",
   "execution_count": 49,
   "id": "961b7308-ae0f-4ee2-bfb7-860785472328",
   "metadata": {},
   "outputs": [
    {
     "data": {
      "text/html": [
       "<iframe\n",
       "    scrolling=\"no\"\n",
       "    width=\"100%\"\n",
       "    height=\"545px\"\n",
       "    src=\"iframe_figures/figure_49.html\"\n",
       "    frameborder=\"0\"\n",
       "    allowfullscreen\n",
       "></iframe>\n"
      ]
     },
     "metadata": {},
     "output_type": "display_data"
    }
   ],
   "source": [
    "plot_data = bat_data.loc[(bat_data['Time at 4.15V (s)']<1e4) \n",
    "                         & (bat_data['Time at 4.15V (s)']>0)] # Time at 4.15 threshold\n",
    "plot_data = plot_data.loc[(plot_data['Charging time (s)']<1e4)] # charge time thresholds\n",
    "\n",
    "fig8_title= \"Time at 4.15V during charge versus Charge time\"\n",
    "fig8 = px.scatter(plot_data\n",
    "                  ,x='Charging time (s)'\n",
    "                  ,y='Time at 4.15V (s)'\n",
    "                  ,color = 'Battery_ID'\n",
    "                  ,color_continuous_scale='viridis'\n",
    "                  ,labels=fig_labels\n",
    "                  ,title =fig8_title)\n",
    "fig8.show()"
   ]
  },
  {
   "cell_type": "markdown",
   "id": "590774b2-ae95-4526-a2b5-f46c9b385cb4",
   "metadata": {},
   "source": [
    "A positive correlation can clearly be seen, as expected. \n",
    "\n",
    "Also, some negative values in `Time at 4.15V` records were found. Such cycles should be removed before using this data to predict RUL.\n",
    "\n",
    "There are also some peculiar events where `Charging time (s)` is shorter than `Time at 4.15V (s)`. Given known information, this is unphysical. Let's check how many cycles have this property.\n"
   ]
  },
  {
   "cell_type": "code",
   "execution_count": 50,
   "id": "237c702b-ff4b-4ff3-91df-2fdc9b924437",
   "metadata": {},
   "outputs": [
    {
     "name": "stdout",
     "output_type": "stream",
     "text": [
      "# weird events: 28/15064\n"
     ]
    }
   ],
   "source": [
    "weird_ch_data = bat_data.loc[bat_data['Charging time (s)']<bat_data['Time at 4.15V (s)']]\n",
    "print('# weird events: {}/{}'.format(len(weird_ch_data),len(bat_data)))\n"
   ]
  },
  {
   "cell_type": "markdown",
   "id": "ad6ebeb6-f31e-40c6-8c12-e1314c3ec112",
   "metadata": {},
   "source": [
    "Such events only make up a small fraction of all events and will be removed.\n",
    "\n",
    "I will also check events where `Decrement 3.6-3.4V (s)` is greater than `Discharge Time (s)` which also should be removed."
   ]
  },
  {
   "cell_type": "code",
   "execution_count": 51,
   "id": "09390d51-de2f-4d87-8f04-d0d604929fc0",
   "metadata": {},
   "outputs": [
    {
     "name": "stdout",
     "output_type": "stream",
     "text": [
      "# weird events: 33/15064\n"
     ]
    }
   ],
   "source": [
    "weird_disch_data = bat_data.loc[bat_data['Discharge Time (s)']<bat_data['Decrement 3.6-3.4V (s)']]\n",
    "print('# weird events: {}/{}'.format(len(weird_disch_data),len(bat_data)))\n",
    "\n"
   ]
  },
  {
   "cell_type": "markdown",
   "id": "f5bc48ee-eb52-4161-81fd-17ceeb4cac85",
   "metadata": {},
   "source": [
    "In all, a small number of cycles where `Time at 4.15V` > `Chatge time` and `Decrement 3.6-3.4V (s)` > `Discharge Time (s)` were found and should be removed from the data before RUL estimation.\n",
    "\n",
    "#### 3.5 Cycle # vs Time at Constant Current (CC)\n",
    "\n",
    "To charge the battery two current modes are used - constant current (CC) and constant voltage (CV).\n",
    "It is expected that the `Time constant current (s)` variable will behave similarly to `Charging time (s)`."
   ]
  },
  {
   "cell_type": "code",
   "execution_count": 52,
   "id": "29eaa901-d7ba-43c4-9cd2-ec3d8562386b",
   "metadata": {},
   "outputs": [
    {
     "data": {
      "text/html": [
       "<iframe\n",
       "    scrolling=\"no\"\n",
       "    width=\"100%\"\n",
       "    height=\"545px\"\n",
       "    src=\"iframe_figures/figure_52.html\"\n",
       "    frameborder=\"0\"\n",
       "    allowfullscreen\n",
       "></iframe>\n"
      ]
     },
     "metadata": {},
     "output_type": "display_data"
    }
   ],
   "source": [
    "fig9_title= \"Time at CC charge mode over consecutive cycles, outliers removed\"\n",
    "\n",
    "plot_data = plot_data.loc[(bat_data['Time constant current (s)']<1e4)] # CC threshold\n",
    "\n",
    "fig9 = px.scatter(plot_data\n",
    "                  ,x='Cycle_Index'\n",
    "                  ,y='Time constant current (s)'\n",
    "                  ,color = 'Battery_ID'\n",
    "                  ,color_continuous_scale='viridis'\n",
    "                  ,labels=fig_labels\n",
    "                  ,title =fig9_title)\n",
    "fig9.show()"
   ]
  },
  {
   "cell_type": "markdown",
   "id": "71f9ebda-eb89-44a3-ab7c-bf07933c219b",
   "metadata": {
    "tags": []
   },
   "source": [
    "As expected, `Time constant current (s)` behaves similarly to  `Charging time (s)` and has a negative correlation with the number of cycles. As the battery deteriorates the charging time becomes shorter.\n",
    "\n",
    "Now I will look at the relationship of `Time constant current (s)` and `Charging time (s)`\n",
    "\n",
    "#### 3.5.1. Charge Time vs Time at CC\n",
    "\n"
   ]
  },
  {
   "cell_type": "code",
   "execution_count": 53,
   "id": "568a9040-842c-4e8e-a4d3-426a6cef2dc2",
   "metadata": {},
   "outputs": [
    {
     "data": {
      "text/html": [
       "<iframe\n",
       "    scrolling=\"no\"\n",
       "    width=\"100%\"\n",
       "    height=\"545px\"\n",
       "    src=\"iframe_figures/figure_53.html\"\n",
       "    frameborder=\"0\"\n",
       "    allowfullscreen\n",
       "></iframe>\n"
      ]
     },
     "metadata": {},
     "output_type": "display_data"
    }
   ],
   "source": [
    "plot_data = bat_data.loc[(bat_data['Time constant current (s)']<1e4)] # CC threshold\n",
    "plot_data = plot_data.loc[(plot_data['Charging time (s)']<1e4)]       # charge time threshold\n",
    "\n",
    "fig10_title= \"Charge time vs Time at CC\"\n",
    "fig10 = px.scatter(plot_data\n",
    "                  ,x='Charging time (s)'\n",
    "                  ,y='Time constant current (s)'\n",
    "                  ,color = 'Battery_ID'\n",
    "                  ,color_continuous_scale='viridis'\n",
    "                  ,labels=fig_labels\n",
    "                  ,title =fig10_title)\n",
    "fig10.show()"
   ]
  },
  {
   "cell_type": "code",
   "execution_count": 54,
   "id": "7f70ec74-9950-4a36-ac7f-a2614e8b4bb3",
   "metadata": {},
   "outputs": [
    {
     "name": "stdout",
     "output_type": "stream",
     "text": [
      "# weird events: 0/15064\n"
     ]
    }
   ],
   "source": [
    "weird_ch_data2 = bat_data.loc[bat_data['Charging time (s)']<bat_data['Time constant current (s)']]\n",
    "print('# weird events: {}/{}'.format(len(weird_ch_data2),len(bat_data)))"
   ]
  },
  {
   "cell_type": "markdown",
   "id": "fd0cd6a6-22e5-489a-a16e-00bb288e103b",
   "metadata": {},
   "source": [
    "As expected there is a positive correlation between `Time constant current (s)` and `Charging time (s)`. I also checked if there were any unphysical cycle records where `Time constant current (s)` > total `Charging time (s)`, and there were no such records."
   ]
  },
  {
   "cell_type": "markdown",
   "id": "6daf2f80-8d18-46e6-b221-0f7de6ad17c3",
   "metadata": {
    "jp-MarkdownHeadingCollapsed": true,
    "tags": []
   },
   "source": [
    "## 4. Predicting RUL\n",
    "<sup>[Go to top](#Battery-Data-Exploration)</sup>"
   ]
  },
  {
   "cell_type": "markdown",
   "id": "14d34f95-9c5e-4083-aebc-cca2a7ab3857",
   "metadata": {
    "jp-MarkdownHeadingCollapsed": true,
    "tags": []
   },
   "source": [
    "##### Importing Libraries ..."
   ]
  },
  {
   "cell_type": "code",
   "execution_count": 26,
   "id": "2b447292-6d43-465e-adaa-d7087e82b6c6",
   "metadata": {},
   "outputs": [],
   "source": [
    "from sklearn.ensemble import RandomForestRegressor\n",
    "from sklearn.metrics import mean_absolute_error\n",
    "from sklearn.model_selection import train_test_split"
   ]
  },
  {
   "cell_type": "markdown",
   "id": "6956c7d9-4dc3-44fc-bbdf-481e89395acb",
   "metadata": {
    "tags": []
   },
   "source": [
    "### 4.1 Data Cleaning\n",
    "\n",
    "As discussed in the previous section, there are some cases with unphysical records and a lot of outlying events. Before I try to use this data to predict the RUL of a battery, I need to clean this data.\n",
    "\n",
    "**NOTE:** at first I will attemt to predict RUL **without any outlier removal**"
   ]
  },
  {
   "cell_type": "code",
   "execution_count": 27,
   "id": "a2ba7410-fc9b-41b1-8d64-030c3a8ac91e",
   "metadata": {},
   "outputs": [],
   "source": [
    "clean_data1 = bat_data.copy()"
   ]
  },
  {
   "cell_type": "code",
   "execution_count": 28,
   "id": "d0beb8bb-949a-4984-b68f-2d097acf1eca",
   "metadata": {},
   "outputs": [],
   "source": [
    "# ---------------------------------\n",
    "# function to print crosscheck\n",
    "def print_cc(idf,fdf):\n",
    "    ilen = len(idf)\n",
    "    flen = len(fdf)\n",
    "    diff = ilen - flen\n",
    "\n",
    "    output = \"\"\"\n",
    "-------------\n",
    "Crosscheck \n",
    "    len(data) before: {}\n",
    "    len(data) after:  {} \n",
    "    diff:             {}\n",
    "\"\"\".format(ilen,flen,diff)  \n",
    "    \n",
    "    print(output)\n",
    "# ---------------------------------"
   ]
  },
  {
   "cell_type": "markdown",
   "id": "8f7f268d-8cb3-4dde-9315-7c7177bf3d02",
   "metadata": {
    "jp-MarkdownHeadingCollapsed": true,
    "tags": []
   },
   "source": [
    "#### 4.1.1 Checking missing records"
   ]
  },
  {
   "cell_type": "code",
   "execution_count": 29,
   "id": "2a25ea8d-bd1e-4dda-abe2-9181ce0eb6df",
   "metadata": {},
   "outputs": [
    {
     "data": {
      "text/html": [
       "<div>\n",
       "<style scoped>\n",
       "    .dataframe tbody tr th:only-of-type {\n",
       "        vertical-align: middle;\n",
       "    }\n",
       "\n",
       "    .dataframe tbody tr th {\n",
       "        vertical-align: top;\n",
       "    }\n",
       "\n",
       "    .dataframe thead th {\n",
       "        text-align: right;\n",
       "    }\n",
       "</style>\n",
       "<table border=\"1\" class=\"dataframe\">\n",
       "  <thead>\n",
       "    <tr style=\"text-align: right;\">\n",
       "      <th></th>\n",
       "      <th>Cycle_Index</th>\n",
       "      <th>Discharge Time (s)</th>\n",
       "      <th>Decrement 3.6-3.4V (s)</th>\n",
       "      <th>Max. Voltage Dischar. (V)</th>\n",
       "      <th>Min. Voltage Charg. (V)</th>\n",
       "      <th>Time at 4.15V (s)</th>\n",
       "      <th>Time constant current (s)</th>\n",
       "      <th>Charging time (s)</th>\n",
       "      <th>RUL</th>\n",
       "      <th>Battery_ID</th>\n",
       "    </tr>\n",
       "  </thead>\n",
       "  <tbody>\n",
       "  </tbody>\n",
       "</table>\n",
       "</div>"
      ],
      "text/plain": [
       "Empty DataFrame\n",
       "Columns: [Cycle_Index, Discharge Time (s), Decrement 3.6-3.4V (s), Max. Voltage Dischar. (V), Min. Voltage Charg. (V), Time at 4.15V (s), Time constant current (s), Charging time (s), RUL, Battery_ID]\n",
       "Index: []"
      ]
     },
     "execution_count": 29,
     "metadata": {},
     "output_type": "execute_result"
    }
   ],
   "source": [
    "# print rows with missing records\n",
    "bat_data[bat_data.isna().any(axis=1)]\n"
   ]
  },
  {
   "cell_type": "markdown",
   "id": "60bd49a6-bd6b-460c-ac7b-e9150ac8bf3e",
   "metadata": {
    "jp-MarkdownHeadingCollapsed": true,
    "tags": []
   },
   "source": [
    "No missing records found.\n",
    "\n",
    "#### 4.1.2 Removing unphysical records\n",
    "\n",
    "In the case of an unphysical measurement I will remove the record row.\n"
   ]
  },
  {
   "cell_type": "markdown",
   "id": "2919c521-cf9c-48e6-9403-b3e7cea7c4cc",
   "metadata": {},
   "source": [
    "**Negative Values** "
   ]
  },
  {
   "cell_type": "code",
   "execution_count": 30,
   "id": "fa73de9c-8eda-400a-aefe-355821addf87",
   "metadata": {},
   "outputs": [
    {
     "name": "stdout",
     "output_type": "stream",
     "text": [
      "Counts of Negative Values:\n",
      "Cycle_Index                   0\n",
      "Discharge Time (s)            0\n",
      "Decrement 3.6-3.4V (s)       24\n",
      "Max. Voltage Dischar. (V)     0\n",
      "Min. Voltage Charg. (V)       0\n",
      "Time at 4.15V (s)             9\n",
      "Time constant current (s)     0\n",
      "Charging time (s)             0\n",
      "RUL                           0\n",
      "Battery_ID                    0\n",
      "dtype: int64\n",
      "\n",
      "Total:33\n",
      "\n",
      "-------------\n",
      "Crosscheck \n",
      "    len(data) before: 15064\n",
      "    len(data) after:  15031 \n",
      "    diff:             33\n",
      "\n"
     ]
    }
   ],
   "source": [
    "neg_counts = (bat_data<0).sum()\n",
    "\n",
    "print('Counts of Negative Values:\\n{}\\n\\nTotal:{}'.format(neg_counts,neg_counts.sum()))\n",
    "\n",
    "clean_data1 = bat_data[(bat_data>=0).all(axis=1)]\n",
    "\n",
    "print_cc(bat_data,clean_data1)\n"
   ]
  },
  {
   "cell_type": "markdown",
   "id": "beeeb5ca-535b-489d-a3ed-12fefc55df72",
   "metadata": {},
   "source": [
    "**Unphysical time measurements**"
   ]
  },
  {
   "cell_type": "code",
   "execution_count": 31,
   "id": "01e86b6c-ed92-4913-82ba-36fd5b81c624",
   "metadata": {},
   "outputs": [
    {
     "name": "stdout",
     "output_type": "stream",
     "text": [
      "\n",
      "Rows with `Discharge Time (s)` < `Decrement 3.6-3.4V (s)` \n",
      "     OR   `Charging time (s)`  < `Time at 4.15V (s)`\n",
      ": 35 \n",
      "\n",
      "-------------\n",
      "Crosscheck \n",
      "    len(data) before: 15031\n",
      "    len(data) after:  14996 \n",
      "    diff:             35\n",
      "\n"
     ]
    }
   ],
   "source": [
    "# make copy so as not to overwrite the data\n",
    "clean_data_2 = clean_data1.copy()\n",
    "\n",
    "# Get number of rows with unphysical events\n",
    "weird_df = pd.concat([weird_disch_data,weird_ch_data]).drop_duplicates()\n",
    "\n",
    "output = \"\"\"\n",
    "Rows with `Discharge Time (s)` < `Decrement 3.6-3.4V (s)` \n",
    "     OR   `Charging time (s)`  < `Time at 4.15V (s)`\n",
    ": {} \"\"\".format(len(weird_df))\n",
    "\n",
    "print(output)\n",
    "\n",
    "# removing weird discharge events\n",
    "clean_data2 = clean_data1[\n",
    "    clean_data1['Discharge Time (s)'] > clean_data1['Decrement 3.6-3.4V (s)']\n",
    "]\n",
    "\n",
    "\n",
    "# removing weird discharge events\n",
    "clean_data2 = clean_data2[\n",
    "    clean_data2['Charging time (s)']  > clean_data2['Time at 4.15V (s)']\n",
    "]\n",
    "\n",
    "print_cc(clean_data1,clean_data2)\n"
   ]
  },
  {
   "cell_type": "code",
   "execution_count": 32,
   "id": "9ecc3e1b-f952-40d0-a78d-08b43a69e5c4",
   "metadata": {},
   "outputs": [],
   "source": [
    "clean_data = clean_data_2.copy()"
   ]
  },
  {
   "cell_type": "markdown",
   "id": "fe7191f7-e254-4a64-a474-bbf85cf84617",
   "metadata": {
    "tags": []
   },
   "source": [
    "Total rows removed: 68\n",
    "\n",
    "#### 4.1.3 Plotting distributions"
   ]
  },
  {
   "cell_type": "code",
   "execution_count": 33,
   "id": "0f64cb95-1e26-416f-8c0d-c327846be551",
   "metadata": {},
   "outputs": [],
   "source": [
    "cols = ['Discharge Time (s)'\n",
    "        ,'Decrement 3.6-3.4V (s)'\n",
    "        ,'Max. Voltage Dischar. (V)'\n",
    "        ,'Min. Voltage Charg. (V)'\n",
    "        ,'Time at 4.15V (s)'\n",
    "        ,'Time constant current (s)'\n",
    "        ,'Charging time (s)']\n",
    "\n",
    "# thresholds for visibility\n",
    "pltd = clean_data.copy()\n",
    "pltd = pltd[pltd['Discharge Time (s)']<5e3]\n",
    " \n",
    "figs = []\n",
    "for c in cols : \n",
    "    #print(c)\n",
    "    fig = px.scatter(pltd\n",
    "                     ,x='Cycle_Index'\n",
    "                     ,y=c\n",
    "                     ,color='Battery_ID'\n",
    "                     ,color_continuous_scale='viridis'\n",
    "                     ,labels=fig_labels)\n",
    "    \n",
    "    figs.append(fig)\n",
    "    \n",
    "# put px plots into subplots\n",
    "test_fig = plotly_helpers.make_px_subplots(figs,7,1,cols\n",
    "                                          ,x_labels=['Cycle Number' for i in figs ]\n",
    "                                          ,y_labels=cols\n",
    "                                          ,c_label='Battery ID')\n",
    "\n",
    "# # --------------------------\n",
    "# # >> uncomment to show plots\n",
    "\n",
    "# # cosmetics\n",
    "# test_fig.update_layout(title=\"Test Distributions\"\n",
    "#                        ,coloraxis = {'colorscale':'viridis'}\n",
    "#                        ,height=4000\n",
    "#                        ,coloraxis_showscale=False)\n",
    "\n",
    "# # draw\n",
    "# test_fig.show()\n"
   ]
  },
  {
   "cell_type": "markdown",
   "id": "4a2c3169-55ac-43bf-973c-127a16ad9d3b",
   "metadata": {},
   "source": [
    "### 4.2 Preparing Data "
   ]
  },
  {
   "cell_type": "code",
   "execution_count": 34,
   "id": "ee54173a-c690-47ba-800d-d5c191646113",
   "metadata": {},
   "outputs": [
    {
     "name": "stdout",
     "output_type": "stream",
     "text": [
      "Data split into train and test sets!\n",
      "\n"
     ]
    },
    {
     "data": {
      "text/plain": [
       "'Training Features:'"
      ]
     },
     "metadata": {},
     "output_type": "display_data"
    },
    {
     "data": {
      "text/plain": [
       "['Discharge Time (s)',\n",
       " 'Decrement 3.6-3.4V (s)',\n",
       " 'Max. Voltage Dischar. (V)',\n",
       " 'Min. Voltage Charg. (V)',\n",
       " 'Time at 4.15V (s)',\n",
       " 'Time constant current (s)',\n",
       " 'Charging time (s)']"
      ]
     },
     "metadata": {},
     "output_type": "display_data"
    },
    {
     "name": "stdout",
     "output_type": "stream",
     "text": [
      "\n"
     ]
    },
    {
     "data": {
      "text/plain": [
       "'Testing Features:'"
      ]
     },
     "metadata": {},
     "output_type": "display_data"
    },
    {
     "data": {
      "text/plain": [
       "['Discharge Time (s)',\n",
       " 'Decrement 3.6-3.4V (s)',\n",
       " 'Max. Voltage Dischar. (V)',\n",
       " 'Min. Voltage Charg. (V)',\n",
       " 'Time at 4.15V (s)',\n",
       " 'Time constant current (s)',\n",
       " 'Charging time (s)']"
      ]
     },
     "metadata": {},
     "output_type": "display_data"
    }
   ],
   "source": [
    "# target\n",
    "y = clean_data.RUL\n",
    "\n",
    "# features \n",
    "# note -- cycle index is dirrectly related to RUL, \n",
    "#         so it will not be given to the model\n",
    "#         but I want to havve the train / test split\n",
    "features = ['Cycle_Index'\n",
    "            ,'Discharge Time (s)'\n",
    "            ,'Decrement 3.6-3.4V (s)'\n",
    "            ,'Max. Voltage Dischar. (V)'\n",
    "            ,'Min. Voltage Charg. (V)'\n",
    "            ,'Time at 4.15V (s)'\n",
    "            ,'Time constant current (s)'\n",
    "            ,'Charging time (s)']\n",
    "\n",
    "X = clean_data[features]\n",
    "\n",
    "# Train / test split\n",
    "train_X, test_X, train_y, test_y = train_test_split(X, y, test_size=0.2, random_state=1)\n",
    "print('Data split into train and test sets!')\n",
    "\n",
    "# save test cycle ID\n",
    "test_cycle_ID = test_X['Cycle_Index']\n",
    "\n",
    "# drop cycle ID from features\n",
    "train_X.drop(['Cycle_Index'],axis=1,inplace=True)\n",
    "test_X.drop(['Cycle_Index'],axis=1,inplace=True)\n",
    "\n",
    "# crosscheck\n",
    "print()\n",
    "display('Training Features:',list(train_X.columns))\n",
    "print()\n",
    "display('Testing Features:',list(train_X.columns))\n",
    "\n"
   ]
  },
  {
   "cell_type": "markdown",
   "id": "97942e8f-8acb-412a-8289-2514b1e41b84",
   "metadata": {},
   "source": [
    "### 4.3 Implementing Models"
   ]
  },
  {
   "cell_type": "code",
   "execution_count": 35,
   "id": "f3c48785-ad51-47f3-82d7-5481a178a8ff",
   "metadata": {},
   "outputs": [],
   "source": [
    "# ------------------------\n",
    "# function to train and test a model\n",
    "def train_test_model(model, train_X, test_X, train_y, test_y) : \n",
    "    \n",
    "    # training\n",
    "    model.fit(train_X, train_y)\n",
    "\n",
    "    # testing\n",
    "    test_pred = model.predict(test_X)\n",
    "    test_mae = mean_absolute_error(test_pred, test_y)\n",
    "\n",
    "    # output\n",
    "    print (\"Random Forest Model MAE: {:.2f}\".format(test_mae))\n",
    "\n",
    "    return model, test_pred, test_mae\n",
    "\n",
    "# ------------------------"
   ]
  },
  {
   "cell_type": "markdown",
   "id": "f7be9b92-8e27-4375-bc68-a026b0019a5f",
   "metadata": {},
   "source": [
    "#### 4.3.1 Random Forest Model"
   ]
  },
  {
   "cell_type": "markdown",
   "id": "a4105cde-1204-4674-a053-c673a0e2f784",
   "metadata": {
    "tags": []
   },
   "source": [
    "##### Testing optimal number of estimators"
   ]
  },
  {
   "cell_type": "code",
   "execution_count": 36,
   "id": "4061a24a-9823-4dbf-86fc-4b75e5e56834",
   "metadata": {},
   "outputs": [],
   "source": [
    "# # >> uncomment lines bellow to run test\n",
    "\n",
    "# # defining the model\n",
    "# n_est = [50,100,200,300] \n",
    "\n",
    "# # test models\n",
    "# for n in n_est : \n",
    "#     test_model = RandomForestRegressor(n_estimators=n,random_state=1)\n",
    "    \n",
    "#     print('N_estimators: ',n)\n",
    "#     train_test_model(test_model, train_X, test_X, train_y, test_y)\n",
    "#     print()\n",
    "    "
   ]
  },
  {
   "cell_type": "markdown",
   "id": "99579f16-f385-4329-b9cb-30609c923228",
   "metadata": {},
   "source": [
    "`N=200` estimators performed best!"
   ]
  },
  {
   "cell_type": "code",
   "execution_count": 37,
   "id": "eaea4dff-3632-40f8-b547-a65508e9d6af",
   "metadata": {},
   "outputs": [
    {
     "name": "stdout",
     "output_type": "stream",
     "text": [
      "Random Forest Model MAE: 9.69\n"
     ]
    }
   ],
   "source": [
    "# get final model\n",
    "rf_model = RandomForestRegressor(n_estimators=200,random_state=1)\n",
    "rf_model, rf_test_pred, rf_test_mae = train_test_model(rf_model, train_X, test_X, train_y, test_y)\n"
   ]
  },
  {
   "cell_type": "code",
   "execution_count": 38,
   "id": "6c423e68-e51b-458b-996e-9eb1d331c31e",
   "metadata": {},
   "outputs": [
    {
     "name": "stdout",
     "output_type": "stream",
     "text": [
      "Random Forest Model MAE / average RUL = 1.77%\n"
     ]
    }
   ],
   "source": [
    "# compare mean absolute error (MAE) to average test RUL\n",
    "print('Random Forest Model MAE / average RUL = {:.2f}%'.format(100*rf_test_mae/test_y.mean()))"
   ]
  },
  {
   "cell_type": "markdown",
   "id": "dd8032a9-c5bd-4619-8afc-4eac9925bbb3",
   "metadata": {
    "jp-MarkdownHeadingCollapsed": true,
    "tags": []
   },
   "source": [
    "Overall the random forrest predictor seems to be very accurate given this information.\n",
    "\n",
    "##### Error Distributions"
   ]
  },
  {
   "cell_type": "code",
   "execution_count": 72,
   "id": "c1e05c06-a5a3-4289-91e8-118d73a8b018",
   "metadata": {},
   "outputs": [
    {
     "data": {
      "text/html": [
       "<iframe\n",
       "    scrolling=\"no\"\n",
       "    width=\"100%\"\n",
       "    height=\"545px\"\n",
       "    src=\"iframe_figures/figure_72.html\"\n",
       "    frameborder=\"0\"\n",
       "    allowfullscreen\n",
       "></iframe>\n"
      ]
     },
     "metadata": {},
     "output_type": "display_data"
    }
   ],
   "source": [
    "# plotting histogram of prediction errors\n",
    "\n",
    "# error = difference between estimated and true value \n",
    "diff = ((rf_test_pred-test_y).rename('Estimation Error'))\n",
    "# labels\n",
    "labels = {'value' : 'Random Forrest RUL Prediction Error, # cycles '}\n",
    "\n",
    "\n",
    "# # ------- alternatively -------------\n",
    "# # calculated as a percent of mean test RUL\n",
    "# diff = diff*100/test_y.mean()\n",
    "# labels = {'value' : 'Random Forrest RUL Prediction Error, % mean test RUL'}\n",
    "\n",
    "# make plot\n",
    "rf_err_hist = px.histogram(diff,marginal='box',nbins=200,labels=labels,histnorm='probability')\n",
    "rf_err_hist.update_layout(showlegend=False)\n",
    "rf_err_hist.show()"
   ]
  },
  {
   "cell_type": "markdown",
   "id": "0a995851-0f0e-46a9-af87-36a442db8af6",
   "metadata": {},
   "source": [
    "The prediction uncertainties are Gaussian distributed, with a few large outliers.\n",
    "\n",
    "I will explore whether the large prediction errors are related to \"non-standard\" cycles with outlier voltages."
   ]
  },
  {
   "cell_type": "code",
   "execution_count": 77,
   "id": "95953fff-9105-41ac-a5b0-b37a17b944f6",
   "metadata": {},
   "outputs": [
    {
     "data": {
      "text/html": [
       "<iframe\n",
       "    scrolling=\"no\"\n",
       "    width=\"100%\"\n",
       "    height=\"545px\"\n",
       "    src=\"iframe_figures/figure_77.html\"\n",
       "    frameborder=\"0\"\n",
       "    allowfullscreen\n",
       "></iframe>\n"
      ]
     },
     "metadata": {},
     "output_type": "display_data"
    }
   ],
   "source": [
    "# prediction errors as a function of the number of ellapsed cycles\n",
    "# color over ** Max V. Discharge ** to see outliers\n",
    "\n",
    "# labels\n",
    "labels = {'x' : '# cycles' \n",
    "         ,'y' : 'Random Forrest RUL Prediction Error, # cycles '\n",
    "         ,'color' : 'Max. Voltage Dischar. (V)'}\n",
    "\n",
    "\n",
    "# make figure\n",
    "rf_err_fig1 = px.scatter(x=test_cycle_ID\n",
    "                         ,y=abs(diff)\n",
    "                         ,labels=labels\n",
    "                         ,trendline='ols'\n",
    "                         ,color=test_X['Max. Voltage Dischar. (V)']\n",
    "                         ,color_continuous_scale='RdBu'\n",
    "                         ,log_y=True\n",
    "                         ,trendline_color_override='red'\n",
    "                         ,range_y=[1,500])\n",
    "\n",
    "rf_err_fig1.update_layout(plot_bgcolor='rgba(0,0,0,0)')\n",
    "\n",
    "rf_err_fig1.show()\n"
   ]
  },
  {
   "cell_type": "code",
   "execution_count": 78,
   "id": "38f42055-74b2-4c73-9617-5b32f8454589",
   "metadata": {},
   "outputs": [
    {
     "data": {
      "text/html": [
       "<iframe\n",
       "    scrolling=\"no\"\n",
       "    width=\"100%\"\n",
       "    height=\"545px\"\n",
       "    src=\"iframe_figures/figure_78.html\"\n",
       "    frameborder=\"0\"\n",
       "    allowfullscreen\n",
       "></iframe>\n"
      ]
     },
     "metadata": {},
     "output_type": "display_data"
    }
   ],
   "source": [
    "# same as before, but color over ** Min. V Charge ** to see outliers\n",
    "\n",
    "labels['color'] = 'Min. Voltage Charg. (V)'\n",
    "\n",
    "# make figure\n",
    "rf_err_fig2 = px.scatter(x=test_cycle_ID\n",
    "                         ,y=abs(diff)\n",
    "                         ,labels=labels\n",
    "                         ,trendline='ols'\n",
    "                         ,color=test_X['Min. Voltage Charg. (V)']\n",
    "                         ,color_continuous_scale='RdBu'\n",
    "                         ,log_y=True\n",
    "                         ,trendline_color_override='red'\n",
    "                         ,range_y=[1,500])\n",
    "\n",
    "rf_err_fig2.update_layout(plot_bgcolor='rgba(0,0,0,0)')\n",
    "\n",
    "rf_err_fig2.show()"
   ]
  },
  {
   "cell_type": "markdown",
   "id": "d39879e8-226d-43e8-839d-23e60bbb3425",
   "metadata": {},
   "source": [
    "From scatter plot and the flat trendline it is clear that **absolute RUL prediction error** is mostly independent on the **number of cycles** (just ~3% correlation), with a slight skew towards **end of life**.\n",
    "\n",
    "However, it is seen that outliers tend to have fractionally higher errors. \n",
    "\n",
    "Perhaps a different ML algorithm would be better to accurately estimate outlier RUL."
   ]
  },
  {
   "cell_type": "markdown",
   "id": "00e675e8-eaaa-436e-a73b-41a6dfe5a7c1",
   "metadata": {},
   "source": [
    "## 5. Summary and Outlook\n",
    "<sup>[Go to top](#Battery-Data-Exploration)</sup>"
   ]
  },
  {
   "cell_type": "markdown",
   "id": "7110e162-3d94-4e5f-a1ef-f6f53f364525",
   "metadata": {},
   "source": [
    "The data used for the RUL estimation was seen to have occurrances of  \"non-standard\" cycles. The basic `RandomForestRegressor` had difficulty predicting RUL for such cycles. This is likely because such cycles are relatively sparce, and the regressor cannot efficiently learn them. However, a more sophisticated model could perform better.\n",
    "\n",
    "In the future I would like to expand this project and create separate notebooks for other models I try."
   ]
  }
 ],
 "metadata": {
  "kernelspec": {
   "display_name": "Python 3 (ipykernel)",
   "language": "python",
   "name": "python3"
  },
  "language_info": {
   "codemirror_mode": {
    "name": "ipython",
    "version": 3
   },
   "file_extension": ".py",
   "mimetype": "text/x-python",
   "name": "python",
   "nbconvert_exporter": "python",
   "pygments_lexer": "ipython3",
   "version": "3.8.13"
  }
 },
 "nbformat": 4,
 "nbformat_minor": 5
}
