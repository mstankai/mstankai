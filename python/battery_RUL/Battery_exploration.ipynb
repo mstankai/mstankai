{
 "cells": [
  {
   "cell_type": "markdown",
   "id": "2b5fee5a-0c78-4e5a-a40b-3734715444aa",
   "metadata": {},
   "source": [
    "# Battery Data Exploration\n",
    "\n",
    "In this notebook I explore some open source data on battery performace.\n",
    "\n",
    "\n",
    "HERE I WILL MAKE A TOC\n",
    "\n",
    "\n",
    "Data source: [Battery Remaining Useful Life (RUL)](https://www.kaggle.com/datasets/ignaciovinuales/battery-remaining-useful-life-rul)\n",
    "\n",
    "More information on the data and how it was processed: [github:ignavinuales/Battery_RUL_Prediction](https://github.com/ignavinuales/Battery_RUL_Prediction) \n"
   ]
  },
  {
   "cell_type": "markdown",
   "id": "94b4d770-f16e-4d62-9820-fba6665acdd0",
   "metadata": {
    "jp-MarkdownHeadingCollapsed": true,
    "tags": []
   },
   "source": [
    "##### Importing Libraries ... "
   ]
  },
  {
   "cell_type": "code",
   "execution_count": 1,
   "id": "1a753b14-fc67-4c32-a9a1-cf85718ecc56",
   "metadata": {},
   "outputs": [],
   "source": [
    "# general\n",
    "import sys\n",
    "import numpy as np\n",
    "import pandas as pd\n",
    "pd.plotting.register_matplotlib_converters()\n",
    "\n",
    "# mpl\n",
    "import matplotlib as mpl\n",
    "import matplotlib.pyplot as plt\n",
    "\n",
    "# plotly\n",
    "import plotly\n",
    "import plotly.express as px\n",
    "import plotly.io as pio\n",
    "import plotly.figure_factory as ff\n",
    "import plotly.graph_objects as go\n",
    "pio.renderers.default = 'iframe'\n",
    "\n",
    "\n",
    "# stats\n",
    "from scipy import stats\n",
    "#from lmfit.models import GaussianModel\n",
    "\n",
    "# my helper functions\n",
    "sys.path.insert(0, '../helpers/')\n",
    "import pd_helpers\n",
    "import plotly_helpers"
   ]
  },
  {
   "cell_type": "markdown",
   "id": "cab7b665-61de-4a02-9456-082113781ecc",
   "metadata": {
    "jp-MarkdownHeadingCollapsed": true,
    "tags": []
   },
   "source": [
    "## Data Exploration\n",
    "\n",
    "Here I explore the dataset I found without much prior knowledge of the data.\n",
    "Later in the notebook, I will [describe the data](#Data-Description) and plot some [interesting distributions](#Looking-at-distributions).\n"
   ]
  },
  {
   "cell_type": "code",
   "execution_count": 2,
   "id": "321ccd40-b463-413f-bba3-e2ddcdc4489a",
   "metadata": {},
   "outputs": [],
   "source": [
    "# import data\n",
    "bat_path = './data/Battery_RUL.csv'\n",
    "bat_data = pd.read_csv(bat_path) \n"
   ]
  },
  {
   "cell_type": "code",
   "execution_count": 3,
   "id": "edf99b10-bee4-4a33-bcc9-ebaa1773c1ec",
   "metadata": {},
   "outputs": [
    {
     "name": "stdout",
     "output_type": "stream",
     "text": [
      "<class 'pandas.core.frame.DataFrame'>\n",
      "RangeIndex: 15064 entries, 0 to 15063\n",
      "Data columns (total 9 columns):\n",
      " #   Column                     Non-Null Count  Dtype  \n",
      "---  ------                     --------------  -----  \n",
      " 0   Cycle_Index                15064 non-null  float64\n",
      " 1   Discharge Time (s)         15064 non-null  float64\n",
      " 2   Decrement 3.6-3.4V (s)     15064 non-null  float64\n",
      " 3   Max. Voltage Dischar. (V)  15064 non-null  float64\n",
      " 4   Min. Voltage Charg. (V)    15064 non-null  float64\n",
      " 5   Time at 4.15V (s)          15064 non-null  float64\n",
      " 6   Time constant current (s)  15064 non-null  float64\n",
      " 7   Charging time (s)          15064 non-null  float64\n",
      " 8   RUL                        15064 non-null  int64  \n",
      "dtypes: float64(8), int64(1)\n",
      "memory usage: 1.0 MB\n"
     ]
    }
   ],
   "source": [
    "# explore data\n",
    "bat_data.info()"
   ]
  },
  {
   "cell_type": "code",
   "execution_count": 4,
   "id": "a4ec0a4b-8270-4825-9b8b-8dc22f3becbe",
   "metadata": {},
   "outputs": [
    {
     "data": {
      "text/html": [
       "<div>\n",
       "<style scoped>\n",
       "    .dataframe tbody tr th:only-of-type {\n",
       "        vertical-align: middle;\n",
       "    }\n",
       "\n",
       "    .dataframe tbody tr th {\n",
       "        vertical-align: top;\n",
       "    }\n",
       "\n",
       "    .dataframe thead th {\n",
       "        text-align: right;\n",
       "    }\n",
       "</style>\n",
       "<table border=\"1\" class=\"dataframe\">\n",
       "  <thead>\n",
       "    <tr style=\"text-align: right;\">\n",
       "      <th></th>\n",
       "      <th>Cycle_Index</th>\n",
       "      <th>Discharge Time (s)</th>\n",
       "      <th>Decrement 3.6-3.4V (s)</th>\n",
       "      <th>Max. Voltage Dischar. (V)</th>\n",
       "      <th>Min. Voltage Charg. (V)</th>\n",
       "      <th>Time at 4.15V (s)</th>\n",
       "      <th>Time constant current (s)</th>\n",
       "      <th>Charging time (s)</th>\n",
       "      <th>RUL</th>\n",
       "    </tr>\n",
       "  </thead>\n",
       "  <tbody>\n",
       "    <tr>\n",
       "      <th>0</th>\n",
       "      <td>1.0</td>\n",
       "      <td>2595.30</td>\n",
       "      <td>1151.488500</td>\n",
       "      <td>3.670</td>\n",
       "      <td>3.211</td>\n",
       "      <td>5460.001</td>\n",
       "      <td>6755.01</td>\n",
       "      <td>10777.82</td>\n",
       "      <td>1112</td>\n",
       "    </tr>\n",
       "    <tr>\n",
       "      <th>1</th>\n",
       "      <td>2.0</td>\n",
       "      <td>7408.64</td>\n",
       "      <td>1172.512500</td>\n",
       "      <td>4.246</td>\n",
       "      <td>3.220</td>\n",
       "      <td>5508.992</td>\n",
       "      <td>6762.02</td>\n",
       "      <td>10500.35</td>\n",
       "      <td>1111</td>\n",
       "    </tr>\n",
       "    <tr>\n",
       "      <th>2</th>\n",
       "      <td>3.0</td>\n",
       "      <td>7393.76</td>\n",
       "      <td>1112.992000</td>\n",
       "      <td>4.249</td>\n",
       "      <td>3.224</td>\n",
       "      <td>5508.993</td>\n",
       "      <td>6762.02</td>\n",
       "      <td>10420.38</td>\n",
       "      <td>1110</td>\n",
       "    </tr>\n",
       "    <tr>\n",
       "      <th>15061</th>\n",
       "      <td>1110.0</td>\n",
       "      <td>769.12</td>\n",
       "      <td>179.357143</td>\n",
       "      <td>3.773</td>\n",
       "      <td>3.742</td>\n",
       "      <td>915.513</td>\n",
       "      <td>1412.31</td>\n",
       "      <td>6637.12</td>\n",
       "      <td>2</td>\n",
       "    </tr>\n",
       "    <tr>\n",
       "      <th>15062</th>\n",
       "      <td>1111.0</td>\n",
       "      <td>773.88</td>\n",
       "      <td>162.374667</td>\n",
       "      <td>3.763</td>\n",
       "      <td>3.839</td>\n",
       "      <td>539.375</td>\n",
       "      <td>1148.00</td>\n",
       "      <td>7660.62</td>\n",
       "      <td>1</td>\n",
       "    </tr>\n",
       "    <tr>\n",
       "      <th>15063</th>\n",
       "      <td>1112.0</td>\n",
       "      <td>677537.27</td>\n",
       "      <td>142740.640000</td>\n",
       "      <td>4.206</td>\n",
       "      <td>3.305</td>\n",
       "      <td>49680.004</td>\n",
       "      <td>599830.14</td>\n",
       "      <td>599830.14</td>\n",
       "      <td>0</td>\n",
       "    </tr>\n",
       "  </tbody>\n",
       "</table>\n",
       "</div>"
      ],
      "text/plain": [
       "       Cycle_Index  Discharge Time (s)  Decrement 3.6-3.4V (s)  \\\n",
       "0              1.0             2595.30             1151.488500   \n",
       "1              2.0             7408.64             1172.512500   \n",
       "2              3.0             7393.76             1112.992000   \n",
       "15061       1110.0              769.12              179.357143   \n",
       "15062       1111.0              773.88              162.374667   \n",
       "15063       1112.0           677537.27           142740.640000   \n",
       "\n",
       "       Max. Voltage Dischar. (V)  Min. Voltage Charg. (V)  Time at 4.15V (s)  \\\n",
       "0                          3.670                    3.211           5460.001   \n",
       "1                          4.246                    3.220           5508.992   \n",
       "2                          4.249                    3.224           5508.993   \n",
       "15061                      3.773                    3.742            915.513   \n",
       "15062                      3.763                    3.839            539.375   \n",
       "15063                      4.206                    3.305          49680.004   \n",
       "\n",
       "       Time constant current (s)  Charging time (s)   RUL  \n",
       "0                        6755.01           10777.82  1112  \n",
       "1                        6762.02           10500.35  1111  \n",
       "2                        6762.02           10420.38  1110  \n",
       "15061                    1412.31            6637.12     2  \n",
       "15062                    1148.00            7660.62     1  \n",
       "15063                  599830.14          599830.14     0  "
      ]
     },
     "execution_count": 4,
     "metadata": {},
     "output_type": "execute_result"
    }
   ],
   "source": [
    "# look at top two and bottom two rows\n",
    "pd_helpers.pd_headtail(bat_data)"
   ]
  },
  {
   "cell_type": "markdown",
   "id": "5fdb82b0-d68b-4329-83d3-2969f7ac78fb",
   "metadata": {
    "jp-MarkdownHeadingCollapsed": true,
    "tags": []
   },
   "source": [
    "------------\n",
    "There are more cycle indexes than rows. Let's try to understand this by plotting the indexes on a histogram.\n"
   ]
  },
  {
   "cell_type": "markdown",
   "id": "2fb6bf90-0550-42d7-ac34-aa59fe15fbeb",
   "metadata": {
    "jp-MarkdownHeadingCollapsed": true,
    "tags": []
   },
   "source": [
    "#### Looking at Cycle Indexes"
   ]
  },
  {
   "cell_type": "code",
   "execution_count": 5,
   "id": "47a88129-2fb5-410e-a310-b2f98adbc6bb",
   "metadata": {},
   "outputs": [
    {
     "data": {
      "text/html": [
       "<iframe\n",
       "    scrolling=\"no\"\n",
       "    width=\"100%\"\n",
       "    height=\"545px\"\n",
       "    src=\"iframe_figures/figure_5.html\"\n",
       "    frameborder=\"0\"\n",
       "    allowfullscreen\n",
       "></iframe>\n"
      ]
     },
     "metadata": {},
     "output_type": "display_data"
    }
   ],
   "source": [
    "# cycle index histo\n",
    "fig = px.histogram(bat_data, x='Cycle_Index',nbins=1000)\n",
    "fig.show()"
   ]
  },
  {
   "cell_type": "markdown",
   "id": "469a264f-cd59-481c-bd67-0f0a0cc2bfe0",
   "metadata": {},
   "source": [
    "---------------\n",
    "Let's look at rows with `Cycle_Index == 1`"
   ]
  },
  {
   "cell_type": "code",
   "execution_count": 6,
   "id": "12df4891-be0b-477e-af59-60ead474ab79",
   "metadata": {},
   "outputs": [
    {
     "name": "stdout",
     "output_type": "stream",
     "text": [
      "14\n"
     ]
    },
    {
     "data": {
      "text/html": [
       "<div>\n",
       "<style scoped>\n",
       "    .dataframe tbody tr th:only-of-type {\n",
       "        vertical-align: middle;\n",
       "    }\n",
       "\n",
       "    .dataframe tbody tr th {\n",
       "        vertical-align: top;\n",
       "    }\n",
       "\n",
       "    .dataframe thead th {\n",
       "        text-align: right;\n",
       "    }\n",
       "</style>\n",
       "<table border=\"1\" class=\"dataframe\">\n",
       "  <thead>\n",
       "    <tr style=\"text-align: right;\">\n",
       "      <th></th>\n",
       "      <th>Cycle_Index</th>\n",
       "      <th>Discharge Time (s)</th>\n",
       "      <th>Decrement 3.6-3.4V (s)</th>\n",
       "      <th>Max. Voltage Dischar. (V)</th>\n",
       "      <th>Min. Voltage Charg. (V)</th>\n",
       "      <th>Time at 4.15V (s)</th>\n",
       "      <th>Time constant current (s)</th>\n",
       "      <th>Charging time (s)</th>\n",
       "      <th>RUL</th>\n",
       "    </tr>\n",
       "  </thead>\n",
       "  <tbody>\n",
       "    <tr>\n",
       "      <th>0</th>\n",
       "      <td>1.0</td>\n",
       "      <td>2595.30</td>\n",
       "      <td>1151.4885</td>\n",
       "      <td>3.670</td>\n",
       "      <td>3.211</td>\n",
       "      <td>5460.001</td>\n",
       "      <td>6755.01</td>\n",
       "      <td>10777.82</td>\n",
       "      <td>1112</td>\n",
       "    </tr>\n",
       "    <tr>\n",
       "      <th>1076</th>\n",
       "      <td>1.0</td>\n",
       "      <td>2604.00</td>\n",
       "      <td>1186.4955</td>\n",
       "      <td>3.666</td>\n",
       "      <td>3.213</td>\n",
       "      <td>5424.991</td>\n",
       "      <td>6706.02</td>\n",
       "      <td>10772.99</td>\n",
       "      <td>1107</td>\n",
       "    </tr>\n",
       "    <tr>\n",
       "      <th>2155</th>\n",
       "      <td>1.0</td>\n",
       "      <td>2562.02</td>\n",
       "      <td>1140.9910</td>\n",
       "      <td>3.666</td>\n",
       "      <td>3.219</td>\n",
       "      <td>5452.993</td>\n",
       "      <td>6740.99</td>\n",
       "      <td>10836.00</td>\n",
       "      <td>1107</td>\n",
       "    </tr>\n",
       "    <tr>\n",
       "      <th>3232</th>\n",
       "      <td>1.0</td>\n",
       "      <td>2566.08</td>\n",
       "      <td>1161.9830</td>\n",
       "      <td>3.667</td>\n",
       "      <td>3.214</td>\n",
       "      <td>5452.992</td>\n",
       "      <td>6740.99</td>\n",
       "      <td>10938.33</td>\n",
       "      <td>1107</td>\n",
       "    </tr>\n",
       "    <tr>\n",
       "      <th>4313</th>\n",
       "      <td>1.0</td>\n",
       "      <td>2590.02</td>\n",
       "      <td>1239.0070</td>\n",
       "      <td>3.660</td>\n",
       "      <td>3.225</td>\n",
       "      <td>5376.000</td>\n",
       "      <td>6678.01</td>\n",
       "      <td>10821.98</td>\n",
       "      <td>1133</td>\n",
       "    </tr>\n",
       "  </tbody>\n",
       "</table>\n",
       "</div>"
      ],
      "text/plain": [
       "      Cycle_Index  Discharge Time (s)  Decrement 3.6-3.4V (s)  \\\n",
       "0             1.0             2595.30               1151.4885   \n",
       "1076          1.0             2604.00               1186.4955   \n",
       "2155          1.0             2562.02               1140.9910   \n",
       "3232          1.0             2566.08               1161.9830   \n",
       "4313          1.0             2590.02               1239.0070   \n",
       "\n",
       "      Max. Voltage Dischar. (V)  Min. Voltage Charg. (V)  Time at 4.15V (s)  \\\n",
       "0                         3.670                    3.211           5460.001   \n",
       "1076                      3.666                    3.213           5424.991   \n",
       "2155                      3.666                    3.219           5452.993   \n",
       "3232                      3.667                    3.214           5452.992   \n",
       "4313                      3.660                    3.225           5376.000   \n",
       "\n",
       "      Time constant current (s)  Charging time (s)   RUL  \n",
       "0                       6755.01           10777.82  1112  \n",
       "1076                    6706.02           10772.99  1107  \n",
       "2155                    6740.99           10836.00  1107  \n",
       "3232                    6740.99           10938.33  1107  \n",
       "4313                    6678.01           10821.98  1133  "
      ]
     },
     "execution_count": 6,
     "metadata": {},
     "output_type": "execute_result"
    }
   ],
   "source": [
    "init_rows = bat_data.loc[ bat_data.Cycle_Index == 1 ]\n",
    "print(len(init_rows))\n",
    "init_rows.head()"
   ]
  },
  {
   "cell_type": "markdown",
   "id": "f26c7141-421f-4d9e-acf1-804824068755",
   "metadata": {},
   "source": [
    "------------------\n",
    "Here I see that the data describes 14 batteries. The cycling data is in fact concatenated. From the figure above we can also see that some cycling data is missing. I will now mark each battery.\n",
    "\n",
    "------------------"
   ]
  },
  {
   "cell_type": "markdown",
   "id": "72cd01c7-117c-4fc1-862a-245d038fd719",
   "metadata": {
    "jp-MarkdownHeadingCollapsed": true,
    "tags": []
   },
   "source": [
    "##### Adding battery ID's to the data frame"
   ]
  },
  {
   "cell_type": "code",
   "execution_count": 7,
   "id": "7b725253-c7d5-4b89-b9b4-d3eb5e285d4d",
   "metadata": {},
   "outputs": [],
   "source": [
    "# save a copy of the original data\n",
    "bat_data_orig = bat_data.copy()"
   ]
  },
  {
   "cell_type": "code",
   "execution_count": 69,
   "id": "d0fdccce-8039-471f-8c72-a624f364df3f",
   "metadata": {},
   "outputs": [
    {
     "data": {
      "text/plain": [
       "0       0\n",
       "1    1076\n",
       "2    2155\n",
       "3    3232\n",
       "4    4313\n",
       "dtype: int64"
      ]
     },
     "execution_count": 69,
     "metadata": {},
     "output_type": "execute_result"
    }
   ],
   "source": [
    "#get index of each first cycle\n",
    "init_indexes = pd.Series(init_rows.index)\n",
    "init_indexes.head(5)\n"
   ]
  },
  {
   "cell_type": "code",
   "execution_count": 9,
   "id": "c5f71148-146b-4f95-bd2a-9f7436a78ed2",
   "metadata": {},
   "outputs": [],
   "source": [
    "# define mapping function\n",
    "def bat_id_map(init_indexes, val):\n",
    "    \n",
    "    # init_indexes -- pd.Series of initial cycle indexes\n",
    "    #                 sorted lowest to highest\n",
    "    \n",
    "    # val -- comparison value\n",
    "    return init_indexes[init_indexes<=val].idxmax()\n",
    "\n",
    "# --------------------------------\n",
    "# map batteries\n",
    "bat_data['Battery_ID'] = bat_data.index.map(lambda i : bat_id_map(init_indexes,i))"
   ]
  },
  {
   "cell_type": "code",
   "execution_count": 10,
   "id": "e62ecaf9-9f88-4c8f-b7d5-c49f2bc880cb",
   "metadata": {},
   "outputs": [
    {
     "data": {
      "text/html": [
       "<div>\n",
       "<style scoped>\n",
       "    .dataframe tbody tr th:only-of-type {\n",
       "        vertical-align: middle;\n",
       "    }\n",
       "\n",
       "    .dataframe tbody tr th {\n",
       "        vertical-align: top;\n",
       "    }\n",
       "\n",
       "    .dataframe thead th {\n",
       "        text-align: right;\n",
       "    }\n",
       "</style>\n",
       "<table border=\"1\" class=\"dataframe\">\n",
       "  <thead>\n",
       "    <tr style=\"text-align: right;\">\n",
       "      <th></th>\n",
       "      <th>Cycle_Index</th>\n",
       "      <th>Discharge Time (s)</th>\n",
       "      <th>Decrement 3.6-3.4V (s)</th>\n",
       "      <th>Max. Voltage Dischar. (V)</th>\n",
       "      <th>Min. Voltage Charg. (V)</th>\n",
       "      <th>Time at 4.15V (s)</th>\n",
       "      <th>Time constant current (s)</th>\n",
       "      <th>Charging time (s)</th>\n",
       "      <th>RUL</th>\n",
       "      <th>Battery_ID</th>\n",
       "    </tr>\n",
       "  </thead>\n",
       "  <tbody>\n",
       "    <tr>\n",
       "      <th>0</th>\n",
       "      <td>1.0</td>\n",
       "      <td>2595.30</td>\n",
       "      <td>1151.488500</td>\n",
       "      <td>3.670</td>\n",
       "      <td>3.211</td>\n",
       "      <td>5460.001</td>\n",
       "      <td>6755.01</td>\n",
       "      <td>10777.82</td>\n",
       "      <td>1112</td>\n",
       "      <td>0</td>\n",
       "    </tr>\n",
       "    <tr>\n",
       "      <th>1</th>\n",
       "      <td>2.0</td>\n",
       "      <td>7408.64</td>\n",
       "      <td>1172.512500</td>\n",
       "      <td>4.246</td>\n",
       "      <td>3.220</td>\n",
       "      <td>5508.992</td>\n",
       "      <td>6762.02</td>\n",
       "      <td>10500.35</td>\n",
       "      <td>1111</td>\n",
       "      <td>0</td>\n",
       "    </tr>\n",
       "    <tr>\n",
       "      <th>2</th>\n",
       "      <td>3.0</td>\n",
       "      <td>7393.76</td>\n",
       "      <td>1112.992000</td>\n",
       "      <td>4.249</td>\n",
       "      <td>3.224</td>\n",
       "      <td>5508.993</td>\n",
       "      <td>6762.02</td>\n",
       "      <td>10420.38</td>\n",
       "      <td>1110</td>\n",
       "      <td>0</td>\n",
       "    </tr>\n",
       "    <tr>\n",
       "      <th>3</th>\n",
       "      <td>4.0</td>\n",
       "      <td>7385.50</td>\n",
       "      <td>1080.320667</td>\n",
       "      <td>4.250</td>\n",
       "      <td>3.225</td>\n",
       "      <td>5502.016</td>\n",
       "      <td>6762.02</td>\n",
       "      <td>10322.81</td>\n",
       "      <td>1109</td>\n",
       "      <td>0</td>\n",
       "    </tr>\n",
       "    <tr>\n",
       "      <th>4</th>\n",
       "      <td>6.0</td>\n",
       "      <td>65022.75</td>\n",
       "      <td>29813.487000</td>\n",
       "      <td>4.290</td>\n",
       "      <td>3.398</td>\n",
       "      <td>5480.992</td>\n",
       "      <td>53213.54</td>\n",
       "      <td>56699.65</td>\n",
       "      <td>1107</td>\n",
       "      <td>0</td>\n",
       "    </tr>\n",
       "  </tbody>\n",
       "</table>\n",
       "</div>"
      ],
      "text/plain": [
       "   Cycle_Index  Discharge Time (s)  Decrement 3.6-3.4V (s)  \\\n",
       "0          1.0             2595.30             1151.488500   \n",
       "1          2.0             7408.64             1172.512500   \n",
       "2          3.0             7393.76             1112.992000   \n",
       "3          4.0             7385.50             1080.320667   \n",
       "4          6.0            65022.75            29813.487000   \n",
       "\n",
       "   Max. Voltage Dischar. (V)  Min. Voltage Charg. (V)  Time at 4.15V (s)  \\\n",
       "0                      3.670                    3.211           5460.001   \n",
       "1                      4.246                    3.220           5508.992   \n",
       "2                      4.249                    3.224           5508.993   \n",
       "3                      4.250                    3.225           5502.016   \n",
       "4                      4.290                    3.398           5480.992   \n",
       "\n",
       "   Time constant current (s)  Charging time (s)   RUL  Battery_ID  \n",
       "0                    6755.01           10777.82  1112           0  \n",
       "1                    6762.02           10500.35  1111           0  \n",
       "2                    6762.02           10420.38  1110           0  \n",
       "3                    6762.02           10322.81  1109           0  \n",
       "4                   53213.54           56699.65  1107           0  "
      ]
     },
     "metadata": {},
     "output_type": "display_data"
    },
    {
     "data": {
      "text/html": [
       "<div>\n",
       "<style scoped>\n",
       "    .dataframe tbody tr th:only-of-type {\n",
       "        vertical-align: middle;\n",
       "    }\n",
       "\n",
       "    .dataframe tbody tr th {\n",
       "        vertical-align: top;\n",
       "    }\n",
       "\n",
       "    .dataframe thead th {\n",
       "        text-align: right;\n",
       "    }\n",
       "</style>\n",
       "<table border=\"1\" class=\"dataframe\">\n",
       "  <thead>\n",
       "    <tr style=\"text-align: right;\">\n",
       "      <th></th>\n",
       "      <th>Cycle_Index</th>\n",
       "      <th>Discharge Time (s)</th>\n",
       "      <th>Decrement 3.6-3.4V (s)</th>\n",
       "      <th>Max. Voltage Dischar. (V)</th>\n",
       "      <th>Min. Voltage Charg. (V)</th>\n",
       "      <th>Time at 4.15V (s)</th>\n",
       "      <th>Time constant current (s)</th>\n",
       "      <th>Charging time (s)</th>\n",
       "      <th>RUL</th>\n",
       "      <th>Battery_ID</th>\n",
       "    </tr>\n",
       "  </thead>\n",
       "  <tbody>\n",
       "    <tr>\n",
       "      <th>478</th>\n",
       "      <td>500.0</td>\n",
       "      <td>1604.16</td>\n",
       "      <td>459.839429</td>\n",
       "      <td>3.944</td>\n",
       "      <td>3.545</td>\n",
       "      <td>3098.360</td>\n",
       "      <td>3968.36</td>\n",
       "      <td>8013.70</td>\n",
       "      <td>613</td>\n",
       "      <td>0</td>\n",
       "    </tr>\n",
       "    <tr>\n",
       "      <th>1554</th>\n",
       "      <td>500.0</td>\n",
       "      <td>1587.87</td>\n",
       "      <td>409.285714</td>\n",
       "      <td>3.884</td>\n",
       "      <td>3.589</td>\n",
       "      <td>2974.752</td>\n",
       "      <td>3860.35</td>\n",
       "      <td>8379.71</td>\n",
       "      <td>608</td>\n",
       "      <td>1</td>\n",
       "    </tr>\n",
       "    <tr>\n",
       "      <th>2631</th>\n",
       "      <td>500.0</td>\n",
       "      <td>1631.84</td>\n",
       "      <td>470.571429</td>\n",
       "      <td>3.927</td>\n",
       "      <td>3.556</td>\n",
       "      <td>3176.223</td>\n",
       "      <td>4040.22</td>\n",
       "      <td>8225.22</td>\n",
       "      <td>608</td>\n",
       "      <td>2</td>\n",
       "    </tr>\n",
       "    <tr>\n",
       "      <th>3711</th>\n",
       "      <td>500.0</td>\n",
       "      <td>1638.15</td>\n",
       "      <td>480.857143</td>\n",
       "      <td>3.934</td>\n",
       "      <td>3.551</td>\n",
       "      <td>3205.151</td>\n",
       "      <td>4076.35</td>\n",
       "      <td>8285.41</td>\n",
       "      <td>608</td>\n",
       "      <td>3</td>\n",
       "    </tr>\n",
       "    <tr>\n",
       "      <th>4794</th>\n",
       "      <td>500.0</td>\n",
       "      <td>1656.00</td>\n",
       "      <td>476.000000</td>\n",
       "      <td>3.935</td>\n",
       "      <td>3.549</td>\n",
       "      <td>3284.320</td>\n",
       "      <td>4148.32</td>\n",
       "      <td>8396.32</td>\n",
       "      <td>634</td>\n",
       "      <td>4</td>\n",
       "    </tr>\n",
       "  </tbody>\n",
       "</table>\n",
       "</div>"
      ],
      "text/plain": [
       "      Cycle_Index  Discharge Time (s)  Decrement 3.6-3.4V (s)  \\\n",
       "478         500.0             1604.16              459.839429   \n",
       "1554        500.0             1587.87              409.285714   \n",
       "2631        500.0             1631.84              470.571429   \n",
       "3711        500.0             1638.15              480.857143   \n",
       "4794        500.0             1656.00              476.000000   \n",
       "\n",
       "      Max. Voltage Dischar. (V)  Min. Voltage Charg. (V)  Time at 4.15V (s)  \\\n",
       "478                       3.944                    3.545           3098.360   \n",
       "1554                      3.884                    3.589           2974.752   \n",
       "2631                      3.927                    3.556           3176.223   \n",
       "3711                      3.934                    3.551           3205.151   \n",
       "4794                      3.935                    3.549           3284.320   \n",
       "\n",
       "      Time constant current (s)  Charging time (s)  RUL  Battery_ID  \n",
       "478                     3968.36            8013.70  613           0  \n",
       "1554                    3860.35            8379.71  608           1  \n",
       "2631                    4040.22            8225.22  608           2  \n",
       "3711                    4076.35            8285.41  608           3  \n",
       "4794                    4148.32            8396.32  634           4  "
      ]
     },
     "execution_count": 10,
     "metadata": {},
     "output_type": "execute_result"
    }
   ],
   "source": [
    "# testing\n",
    "display(bat_data.head())\n",
    "bat_data.loc[ bat_data.Cycle_Index == 500 ].head()"
   ]
  },
  {
   "cell_type": "markdown",
   "id": "ee362339-42b0-419d-ba0d-ee46f61701bb",
   "metadata": {},
   "source": [
    "## Data Description\n",
    "\n",
    "- There are 14 batteries in the dataset\n",
    "- Each battery is cycled for ~1100 times\n",
    "- Each cycle is one discharge and charge\n",
    "- `Cycle_Index` indexes each cycle\n",
    "\n",
    "- The battery is charged at a nominal rate of C/2 (1h/0.5 = 2h = 7.2k s) and discharged at a rate of 1.5C (1h/1.5 = 40 min = 2.4k s) \n",
    "- `Discharge` and `Charge` time is the time it takes to fully discharge and charge the battery \n",
    "- `Decrement 3.6-3.4V` marks the time beween those voltages during discharge\n",
    "- `Max/Min Voldatge` marks the max (min) voltage before each discharge (charge)\n",
    "- `Time at 4.15V` indicates the moment in time during charge when the battery hits 4.15V\n",
    "- During the charge cycle the battery is at first charged at **constant current** and then at **constant voltage** \n",
    "- `Time constant current (s)` shows the time the battery has spent in **constant cuurent** mode\n",
    "- `RUL` - remaining useful life of the battery measured in **# of cycles**\n"
   ]
  },
  {
   "cell_type": "markdown",
   "id": "d25de203-95f1-4a24-a761-cf6bf1bf8a1c",
   "metadata": {},
   "source": [
    "## Looking at distributions"
   ]
  },
  {
   "cell_type": "markdown",
   "id": "fec51bc1-6c34-40af-9498-b787ee19db50",
   "metadata": {
    "jp-MarkdownHeadingCollapsed": true,
    "tags": []
   },
   "source": [
    "##### _Plot Cosmetics_"
   ]
  },
  {
   "cell_type": "code",
   "execution_count": 50,
   "id": "dd6e9edb-9049-4e1a-b8ae-4e54c599947a",
   "metadata": {},
   "outputs": [],
   "source": [
    "# fig_labels = { 'Cycle_Index' : 'Cycle Number'\n",
    "#               ,'Battery_ID'   : 'Battery ID'\n",
    "#              }"
   ]
  },
  {
   "cell_type": "markdown",
   "id": "847a2064-c75c-4bf9-ae3b-f7f45844ed6a",
   "metadata": {
    "tags": []
   },
   "source": [
    "#### Cycle vs Discharge and Charge Time\n",
    "\n",
    "The discharge and charge times are expected to shorten with the number of cycles as the batery gets worn and its capacity decreases. I plot the cycle number against the discharging / charging time to see this relationship."
   ]
  },
  {
   "cell_type": "markdown",
   "id": "ab2a9286-8642-4eea-9371-116ac2f49859",
   "metadata": {
    "tags": []
   },
   "source": [
    "##### First attempt : Seeing the Outliers"
   ]
  },
  {
   "cell_type": "code",
   "execution_count": 63,
   "id": "52e03052-3334-4809-aff1-e106fd58c9d2",
   "metadata": {},
   "outputs": [
    {
     "data": {
      "text/html": [
       "<iframe\n",
       "    scrolling=\"no\"\n",
       "    width=\"100%\"\n",
       "    height=\"545px\"\n",
       "    src=\"iframe_figures/figure_63.html\"\n",
       "    frameborder=\"0\"\n",
       "    allowfullscreen\n",
       "></iframe>\n"
      ]
     },
     "metadata": {},
     "output_type": "display_data"
    }
   ],
   "source": [
    "# title\n",
    "sp1_title = \"Charge time development over consecutive cycles\"\n",
    "\n",
    "# plots \n",
    "plots_y = ['Discharge Time (s)','Charging time (s)']\n",
    "\n",
    "sp_figs = []\n",
    "for y in plots_y :\n",
    "    fig = px.scatter(bat_data\n",
    "                     ,x = 'Cycle_Index'\n",
    "                     ,y = y\n",
    "                     ,color = 'Battery_ID')\n",
    "    sp_figs.append(fig)\n",
    "\n",
    "\n",
    "# put px plots into subplots\n",
    "sp1 = plotly_helpers.make_px_subplots(sp_figs,1,2,plots_y\n",
    "                                      ,x_labels=['Cycle Index' for i in sp_figs ]\n",
    "                                      ,y_labels=plots_y\n",
    "                                      ,c_label='Battery ID')\n",
    " \n",
    "    \n",
    "# cosmetics\n",
    "sp1.update_layout(title=sp1_title\n",
    "                 ,coloraxis = {'colorscale':'viridis'})\n",
    "\n",
    "# draw\n",
    "sp1.show()\n"
   ]
  },
  {
   "cell_type": "markdown",
   "id": "b89eb759-69bf-4b45-8ad9-388e7a81a628",
   "metadata": {
    "tags": []
   },
   "source": [
    "##### Second attempt : Outliers Removed\n",
    "\n",
    "It is clear that there are many outliers in the data. These could be special charging cycles. Let's try observing the distributions with the outliers removed."
   ]
  },
  {
   "cell_type": "code",
   "execution_count": 65,
   "id": "4b363c49-bea3-4aa0-91ee-450e2918f4cc",
   "metadata": {},
   "outputs": [
    {
     "data": {
      "text/html": [
       "<iframe\n",
       "    scrolling=\"no\"\n",
       "    width=\"100%\"\n",
       "    height=\"545px\"\n",
       "    src=\"iframe_figures/figure_65.html\"\n",
       "    frameborder=\"0\"\n",
       "    allowfullscreen\n",
       "></iframe>\n"
      ]
     },
     "metadata": {},
     "output_type": "display_data"
    }
   ],
   "source": [
    "# making the same plots as above but with the outliers removed\n",
    "\n",
    "outlier_th = [3e3,12e3]   # charge, discharge \n",
    "\n",
    "# making subfigures\n",
    "sp_figs = []\n",
    "y_labels = []\n",
    "\n",
    "for i,y in enumerate(plots_y) :\n",
    "    fig = px.scatter(bat_data[bat_data[y] < outlier_th[i]]\n",
    "                     ,x = 'Cycle_Index'\n",
    "                     ,y = y\n",
    "                     ,trendline='ols'\n",
    "                     ,trendline_color_override='red'\n",
    "                     ,color = 'Battery_ID')\n",
    "    sp_figs.append(fig)\n",
    "    y_labels.append(y+' < '+'{:.1e}'.format(outlier_th[i]))\n",
    "\n",
    "# put px plots into subplots\n",
    "sp2 = plotly_helpers.make_px_subplots(sp_figs,1,2,plots_y\n",
    "                                      ,x_labels=['Cycle Index' for i in sp_figs ]\n",
    "                                      ,y_labels=y_labels\n",
    "                                      ,c_label='Battery ID')\n",
    " \n",
    "    \n",
    "# cosmetics\n",
    "sp2.update_layout(title=sp1_title+\", outliers removed\"\n",
    "                 ,coloraxis = {'colorscale':'viridis'})\n",
    "\n",
    "# draw\n",
    "sp2.show()\n",
    "\n"
   ]
  },
  {
   "cell_type": "markdown",
   "id": "9b9916fb-10d9-44af-840b-e591d9f1c686",
   "metadata": {},
   "source": [
    "It is clear that both charge and discharge time has a clear relationship with charge/discharge time."
   ]
  },
  {
   "cell_type": "markdown",
   "id": "25ea8d30-468d-4fb8-99f0-d3b73877a799",
   "metadata": {
    "tags": []
   },
   "source": [
    "#### Cycle vs Min and Max Voltage \n",
    "\n",
    "The minimum voltage at discharge and maximum voltage at charge are also related to the resistance and capasity of the battery.\n",
    "\n",
    "For example, after a full charge, when the current is disconnected the voltage of the battery drops due to **polarisation effects**. This voltage is given as the variable `Max. Voltage Dischar.`, i.e. the max voltage before the start of the discharge. The size of the drop is positively related to the resistance of the battery, and the current used to charge it.     \n",
    "\n",
    "As the battery wears, the resistance of the batery increases and the **maximum voltage at discharge** decreases, and the **minimum voltage at charge** increases. Let's see these distributions.\n"
   ]
  },
  {
   "cell_type": "code",
   "execution_count": 67,
   "id": "7174d38f-e2db-4387-9490-b60b07977a79",
   "metadata": {},
   "outputs": [
    {
     "data": {
      "text/html": [
       "<iframe\n",
       "    scrolling=\"no\"\n",
       "    width=\"100%\"\n",
       "    height=\"545px\"\n",
       "    src=\"iframe_figures/figure_67.html\"\n",
       "    frameborder=\"0\"\n",
       "    allowfullscreen\n",
       "></iframe>\n"
      ]
     },
     "metadata": {},
     "output_type": "display_data"
    }
   ],
   "source": [
    "# title\n",
    "sp1_title = \"Max and Min Voltage development over consecutive cycles\"\n",
    "\n",
    "# plots \n",
    "plots_y = ['Max. Voltage Dischar. (V)','Min. Voltage Charg. (V)']\n",
    "\n",
    "sp_figs = []\n",
    "for y in plots_y :\n",
    "    fig = px.scatter(bat_data\n",
    "                     ,x = 'Cycle_Index'\n",
    "                     ,y = y\n",
    "                     ,color = 'Battery_ID')\n",
    "    sp_figs.append(fig)\n",
    "\n",
    "\n",
    "# put px plots into subplots\n",
    "sp1 = plotly_helpers.make_px_subplots(sp_figs,1,2,plots_y\n",
    "                                      ,x_labels=['Cycle Index' for i in sp_figs ]\n",
    "                                      ,y_labels=plots_y\n",
    "                                      ,c_label='Battery ID')\n",
    " \n",
    "    \n",
    "# cosmetics\n",
    "sp1.update_layout(title=sp1_title\n",
    "                 ,coloraxis = {'colorscale':'viridis'})\n",
    "\n",
    "# draw\n",
    "sp1.show()\n",
    "\n"
   ]
  },
  {
   "cell_type": "markdown",
   "id": "50679156-bb22-4c56-97eb-210ef0e1c7f2",
   "metadata": {},
   "source": [
    "As expected a clear relationship can be seen between max(min) voltages at discharge(charge) \\[MaxDV/MinCV\\] and the cycle number. \n",
    "There also are clear indications of \"non standard\" cycles creating outliers, as seen previously in charge time."
   ]
  },
  {
   "cell_type": "markdown",
   "id": "160ed18f-49da-4a19-8835-686ab2e3180c",
   "metadata": {},
   "source": [
    "#### Understanding the outliers:\n",
    "\n",
    "When a battery is charged slower (at lower current) a higher maximum voltage can be achieved as the polarisation effect is smaller. \n",
    "To summarise:\n",
    "- Fast charge = low MaxDV\n",
    "- Slow charge = high MaxDV\n",
    "- Fast discharge = high MinCV\n",
    "- Slow discharge = low MinCV\n",
    "\n",
    "Interestingly charging times and min. voltage at charge seem a lot more varied.\n",
    "\n",
    "It will likely be interesting to see whether removing outliers would improve or worsen the performance of a ML algorithm predicting battery life.\n",
    "\n",
    "To make sure this observation is correct I will print out a few lines arround a **low** and **high** MinCV cycle."
   ]
  },
  {
   "cell_type": "code",
   "execution_count": 99,
   "id": "19f5bf47-9a35-4437-82a9-f63ed877ef81",
   "metadata": {},
   "outputs": [
    {
     "data": {
      "text/html": [
       "<iframe\n",
       "    scrolling=\"no\"\n",
       "    width=\"820px\"\n",
       "    height=\"420\"\n",
       "    src=\"iframe_figures/figure_99.html\"\n",
       "    frameborder=\"0\"\n",
       "    allowfullscreen\n",
       "></iframe>\n"
      ]
     },
     "metadata": {},
     "output_type": "display_data"
    }
   ],
   "source": [
    "# choose battery 12\n",
    "\n",
    "cols= ['Cycle_Index'\n",
    "       ,'Discharge Time (s)'\n",
    "       ,'Max. Voltage Dischar. (V)'\n",
    "       ,'Min. Voltage Charg. (V)'\n",
    "       ,'Charging time (s)'\n",
    "       ,'Battery_ID']\n",
    "\n",
    "test_data = bat_data.loc[bat_data['Battery_ID'] == 12,cols]\n",
    "\n",
    "# plot values so I can choose useful Cycle_ID's\n",
    "fig_t = px.scatter(test_data\n",
    "                   ,x='Cycle_Index'\n",
    "                   ,y='Min. Voltage Charg. (V)'\n",
    "                   ,height=400\n",
    "                   ,width=800)\n",
    "fig_t.show()"
   ]
  },
  {
   "cell_type": "code",
   "execution_count": 100,
   "id": "2798b41c-4a3d-49c0-8712-a2e971a49331",
   "metadata": {},
   "outputs": [],
   "source": [
    "# lines I will print before and after the event of interest\n",
    "Nprint = 2   # 2+2+2 --> 5 lines"
   ]
  },
  {
   "cell_type": "markdown",
   "id": "6c44868c-8120-462a-901c-8224a2b8129b",
   "metadata": {
    "jp-MarkdownHeadingCollapsed": true,
    "tags": []
   },
   "source": [
    "##### Baseline -- normal event"
   ]
  },
  {
   "cell_type": "code",
   "execution_count": 104,
   "id": "1564fd0b-a52e-4fad-880a-e2cbb9fedf5d",
   "metadata": {},
   "outputs": [
    {
     "data": {
      "text/html": [
       "<div>\n",
       "<style scoped>\n",
       "    .dataframe tbody tr th:only-of-type {\n",
       "        vertical-align: middle;\n",
       "    }\n",
       "\n",
       "    .dataframe tbody tr th {\n",
       "        vertical-align: top;\n",
       "    }\n",
       "\n",
       "    .dataframe thead th {\n",
       "        text-align: right;\n",
       "    }\n",
       "</style>\n",
       "<table border=\"1\" class=\"dataframe\">\n",
       "  <thead>\n",
       "    <tr style=\"text-align: right;\">\n",
       "      <th></th>\n",
       "      <th>Cycle_Index</th>\n",
       "      <th>Discharge Time (s)</th>\n",
       "      <th>Max. Voltage Dischar. (V)</th>\n",
       "      <th>Min. Voltage Charg. (V)</th>\n",
       "      <th>Charging time (s)</th>\n",
       "      <th>Battery_ID</th>\n",
       "    </tr>\n",
       "  </thead>\n",
       "  <tbody>\n",
       "    <tr>\n",
       "      <th>13051</th>\n",
       "      <td>113.0</td>\n",
       "      <td>2095.94</td>\n",
       "      <td>3.993</td>\n",
       "      <td>3.419</td>\n",
       "      <td>9122.08</td>\n",
       "      <td>12</td>\n",
       "    </tr>\n",
       "    <tr>\n",
       "      <th>13052</th>\n",
       "      <td>114.0</td>\n",
       "      <td>2093.15</td>\n",
       "      <td>3.992</td>\n",
       "      <td>3.419</td>\n",
       "      <td>9119.14</td>\n",
       "      <td>12</td>\n",
       "    </tr>\n",
       "    <tr>\n",
       "      <th>13053</th>\n",
       "      <td>115.0</td>\n",
       "      <td>2089.91</td>\n",
       "      <td>3.993</td>\n",
       "      <td>3.421</td>\n",
       "      <td>9109.85</td>\n",
       "      <td>12</td>\n",
       "    </tr>\n",
       "    <tr>\n",
       "      <th>13054</th>\n",
       "      <td>116.0</td>\n",
       "      <td>2087.05</td>\n",
       "      <td>3.993</td>\n",
       "      <td>3.421</td>\n",
       "      <td>9118.05</td>\n",
       "      <td>12</td>\n",
       "    </tr>\n",
       "    <tr>\n",
       "      <th>13055</th>\n",
       "      <td>117.0</td>\n",
       "      <td>2083.16</td>\n",
       "      <td>3.993</td>\n",
       "      <td>3.422</td>\n",
       "      <td>9084.41</td>\n",
       "      <td>12</td>\n",
       "    </tr>\n",
       "  </tbody>\n",
       "</table>\n",
       "</div>"
      ],
      "text/plain": [
       "       Cycle_Index  Discharge Time (s)  Max. Voltage Dischar. (V)  \\\n",
       "13051        113.0             2095.94                      3.993   \n",
       "13052        114.0             2093.15                      3.992   \n",
       "13053        115.0             2089.91                      3.993   \n",
       "13054        116.0             2087.05                      3.993   \n",
       "13055        117.0             2083.16                      3.993   \n",
       "\n",
       "       Min. Voltage Charg. (V)  Charging time (s)  Battery_ID  \n",
       "13051                    3.419            9122.08          12  \n",
       "13052                    3.419            9119.14          12  \n",
       "13053                    3.421            9109.85          12  \n",
       "13054                    3.421            9118.05          12  \n",
       "13055                    3.422            9084.41          12  "
      ]
     },
     "execution_count": 104,
     "metadata": {},
     "output_type": "execute_result"
    }
   ],
   "source": [
    "# BASELINE --- cycle 115\n",
    "index = test_data.loc[test_data['Cycle_Index'] == 115].index[0]\n",
    "test_data.loc[ index - Nprint : index + Nprint ]\n"
   ]
  },
  {
   "cell_type": "markdown",
   "id": "b0b2051d-98d0-433e-b658-6f8ad95c42f6",
   "metadata": {
    "tags": []
   },
   "source": [
    "The (dis)charge times and (dis)charge voltages look consistent.\n",
    "\n",
    "##### Low MinCV event -- expect slow discharge (large Discharge time) in event "
   ]
  },
  {
   "cell_type": "code",
   "execution_count": 107,
   "id": "f513f6f7-c701-49da-bf9f-286fd880b645",
   "metadata": {},
   "outputs": [
    {
     "data": {
      "text/html": [
       "<div>\n",
       "<style scoped>\n",
       "    .dataframe tbody tr th:only-of-type {\n",
       "        vertical-align: middle;\n",
       "    }\n",
       "\n",
       "    .dataframe tbody tr th {\n",
       "        vertical-align: top;\n",
       "    }\n",
       "\n",
       "    .dataframe thead th {\n",
       "        text-align: right;\n",
       "    }\n",
       "</style>\n",
       "<table border=\"1\" class=\"dataframe\">\n",
       "  <thead>\n",
       "    <tr style=\"text-align: right;\">\n",
       "      <th></th>\n",
       "      <th>Cycle_Index</th>\n",
       "      <th>Discharge Time (s)</th>\n",
       "      <th>Max. Voltage Dischar. (V)</th>\n",
       "      <th>Min. Voltage Charg. (V)</th>\n",
       "      <th>Charging time (s)</th>\n",
       "      <th>Battery_ID</th>\n",
       "    </tr>\n",
       "  </thead>\n",
       "  <tbody>\n",
       "    <tr>\n",
       "      <th>13607</th>\n",
       "      <td>690.0</td>\n",
       "      <td>1298.34</td>\n",
       "      <td>3.881</td>\n",
       "      <td>3.608</td>\n",
       "      <td>7985.47</td>\n",
       "      <td>12</td>\n",
       "    </tr>\n",
       "    <tr>\n",
       "      <th>13608</th>\n",
       "      <td>691.0</td>\n",
       "      <td>1282.88</td>\n",
       "      <td>3.878</td>\n",
       "      <td>3.788</td>\n",
       "      <td>8518.41</td>\n",
       "      <td>12</td>\n",
       "    </tr>\n",
       "    <tr>\n",
       "      <th>13609</th>\n",
       "      <td>692.0</td>\n",
       "      <td>191038.09</td>\n",
       "      <td>4.240</td>\n",
       "      <td>3.349</td>\n",
       "      <td>70827.33</td>\n",
       "      <td>12</td>\n",
       "    </tr>\n",
       "    <tr>\n",
       "      <th>13610</th>\n",
       "      <td>694.0</td>\n",
       "      <td>1396.83</td>\n",
       "      <td>3.891</td>\n",
       "      <td>3.604</td>\n",
       "      <td>8541.98</td>\n",
       "      <td>12</td>\n",
       "    </tr>\n",
       "    <tr>\n",
       "      <th>13611</th>\n",
       "      <td>695.0</td>\n",
       "      <td>1397.92</td>\n",
       "      <td>3.895</td>\n",
       "      <td>3.600</td>\n",
       "      <td>8408.03</td>\n",
       "      <td>12</td>\n",
       "    </tr>\n",
       "  </tbody>\n",
       "</table>\n",
       "</div>"
      ],
      "text/plain": [
       "       Cycle_Index  Discharge Time (s)  Max. Voltage Dischar. (V)  \\\n",
       "13607        690.0             1298.34                      3.881   \n",
       "13608        691.0             1282.88                      3.878   \n",
       "13609        692.0           191038.09                      4.240   \n",
       "13610        694.0             1396.83                      3.891   \n",
       "13611        695.0             1397.92                      3.895   \n",
       "\n",
       "       Min. Voltage Charg. (V)  Charging time (s)  Battery_ID  \n",
       "13607                    3.608            7985.47          12  \n",
       "13608                    3.788            8518.41          12  \n",
       "13609                    3.349           70827.33          12  \n",
       "13610                    3.604            8541.98          12  \n",
       "13611                    3.600            8408.03          12  "
      ]
     },
     "execution_count": 107,
     "metadata": {},
     "output_type": "execute_result"
    }
   ],
   "source": [
    "# BASELINE --- cycle 692\n",
    "index = test_data.loc[test_data['Cycle_Index'] == 692].index[0]\n",
    "test_data.loc[ index - Nprint : index + Nprint ]\n"
   ]
  },
  {
   "cell_type": "markdown",
   "id": "41b82f04-6cc9-4777-b37a-374436060e1f",
   "metadata": {},
   "source": [
    "The assumtion was correct, the discharge time was indeed very long for this event (2 orders of magnitude higher).\n"
   ]
  }
 ],
 "metadata": {
  "kernelspec": {
   "display_name": "Python 3 (ipykernel)",
   "language": "python",
   "name": "python3"
  },
  "language_info": {
   "codemirror_mode": {
    "name": "ipython",
    "version": 3
   },
   "file_extension": ".py",
   "mimetype": "text/x-python",
   "name": "python",
   "nbconvert_exporter": "python",
   "pygments_lexer": "ipython3",
   "version": "3.8.13"
  }
 },
 "nbformat": 4,
 "nbformat_minor": 5
}
